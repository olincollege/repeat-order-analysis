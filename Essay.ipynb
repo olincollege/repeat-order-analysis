{
 "cells": [
  {
   "cell_type": "markdown",
   "metadata": {},
   "source": [
    "# Understanding Etsy Reorders\n",
    "\n",
    "Authors: Carlo Colizzi, Andrew Kurtz"
   ]
  },
  {
   "cell_type": "markdown",
   "metadata": {},
   "source": [
    "# Introduction\n",
    "\n",
    "Andrew has been running a stationery and greeting card business on Etsy for the past 4 years.\n",
    "During this time, he was able to fulfill thousands of orders, and now would like to understand\n",
    "what pushes customers to order again, in an attempt to increase customer retention. To put it simply, we are trying to figure out what are the characteristics of repeat customers. \n",
    "\n",
    "We will try to do this by analyzing the order data obtained through the Etsy API, looking specifically\n",
    "at how often and when customers reorder, as well as the general characteristics of those orders (order size, etc...).\n",
    "\n",
    "Acquiring new customers is time-consuming and expensive. Therefore, figuring out how to what drives\n",
    "customer loyalty and improving that would be an easy path for growth. For example, if many customers\n",
    "reorder for specific occasions as gifts (Mother's Day, Christmas, etc), then sending out targeted\n",
    "marketing to past customers around those events would be an efficient way to retain customers.\n",
    "\n",
    "To make sure the code runs correctly, run the cell below:"
   ]
  },
  {
   "cell_type": "code",
   "execution_count": 75,
   "metadata": {},
   "outputs": [
    {
     "name": "stdout",
     "output_type": "stream",
     "text": [
      "The autoreload extension is already loaded. To reload it, use:\n",
      "  %reload_ext autoreload\n"
     ]
    }
   ],
   "source": [
    "%load_ext autoreload\n",
    "%autoreload 2\n",
    "%matplotlib inline\n",
    "\n",
    "import matplotlib.pyplot as plt\n",
    "import plotly.express as px\n",
    "\n",
    "from api_lib import get_all_orders, read_json\n",
    "from analyze_data import (\n",
    "    calculate_avg_order_size,\n",
    "    calculate_orders_per_customer,\n",
    "    calculate_reorder_rate_by_state,\n",
    "    calculate_time_between_orders,\n",
    "    count_orders_by_state,\n",
    "    find_order_dates,\n",
    ")"
   ]
  },
  {
   "cell_type": "markdown",
   "metadata": {},
   "source": [
    "# Methodology\n",
    "## Obtaining the Data\n",
    "\n",
    "To access the data we requested access to the Etsy API to get an initial access key and credentials from Etsy, then went through the authentication steps to connect it to Andrew's Etsy shop to get updated keys that enable access the private order and review data from the shop.\n",
    "\n",
    "Using those keys we wrote a python library in the file `api_lib.py` to pull all of the orders and reviews and save them as JSONs. For each order, the API gives us all relavant details including user ID information, shipping detials, all the items in order, total value, and date/time placed. In our analysis only need a fraction of the data. These are the key data points we use from orders:\n",
    "\n",
    "- `buyer_user_id`: Integer thats a unique identifying id used to keep track of buyers to determine repeat customers\n",
    "- `create_timestamp`: Unix timestamp for when order was created\n",
    "- `state`: String with state name abbreviation from shipping address\n",
    "- `subtotal`: Dictionery with keys:\n",
    "    - `amount`: Order subtotal amount as int\n",
    "    - `divisor`: Int representing what value to divide `amount` by to get dollar amount\n",
    "\n",
    "From the reviews dataset, we only accessed the `buyer_user_id` value which represents the same thing as `buyer_user_id` in the order dataset.\n",
    "\n",
    "To pull the data and save it locally, we ran the cell below with two functions from our api_lib.py library. We only needed to run this at the beginning and after a few days has passed to update the data with the latest orders. By saving it locally, we can mitigate calls to the API.\n",
    "\n",
    "Here is the code we ran to pull the orders. It is commented out because the reader likely won't have the API keys to pull new data, but if you do from following the instructions in the README, uncomment these lines and change the SHOP_ID to get your data to analyze."
   ]
  },
  {
   "cell_type": "code",
   "execution_count": 76,
   "metadata": {},
   "outputs": [],
   "source": [
    "# KEY_PATH = \"keys.json\"\n",
    "# ORDERS_PATH = \"orders.json\"\n",
    "# SHOP_ID = 23574688\n",
    "\n",
    "# get_all_orders(KEY_PATH, ORDERS_PATH, SHOP_ID)"
   ]
  },
  {
   "cell_type": "markdown",
   "metadata": {},
   "source": [
    "This cell is used to read the locally stored order and review data, storing them in their respective variables as lists of dictionaries."
   ]
  },
  {
   "cell_type": "code",
   "execution_count": 77,
   "metadata": {},
   "outputs": [],
   "source": [
    "orders = read_json(\"orders.json\")"
   ]
  },
  {
   "cell_type": "markdown",
   "metadata": {},
   "source": [
    "To pull the specific data points mentioned above, we wrote a function called 'extract_data' which extracts the data from all orders stored in parameter_1 and optionally parameter_2 and returns a list. This function will be used throughout the essay."
   ]
  },
  {
   "cell_type": "markdown",
   "metadata": {},
   "source": [
    "## Processing the data\n",
    "### Number of customers who reorder\n",
    "In the first step of our analysis, we decided to understand the split between one-off customers and returning customers. We did this by writing a function that takes all customer ids from all orders, stores them in `buyer_user_id`, and uses a `Counter()` function to check which ones appear multiple times. Diving into the function, you can notice one customer id has been removed. This is because that account in particular was an account used to place test orders, and therefore would skew the data. Once we knew how many orders were repeat orders, and how many were one-off, we were able to represent this on a chart."
   ]
  },
  {
   "cell_type": "code",
   "execution_count": 78,
   "metadata": {},
   "outputs": [],
   "source": [
    "buyer_user_id, num_reorders, num_customers = calculate_orders_per_customer(\n",
    "    orders\n",
    ")"
   ]
  },
  {
   "cell_type": "markdown",
   "metadata": {},
   "source": [
    "### Order size\n",
    "\n",
    "We then decided to look into the average order size, to see if there were any possible patterns between the average expense of a single vs repeating order. In order to do this, we matched the order amounts to the customer id, and then divided these into two groups: `multiple_order_customers` and `single_order_customers`. Once we had these two lists, we were able to calculate the arithmetic mean of the amount of money spent on orders. "
   ]
  },
  {
   "cell_type": "code",
   "execution_count": 79,
   "metadata": {},
   "outputs": [],
   "source": [
    "single_order_value, multiple_order_value = calculate_avg_order_size(\n",
    "    buyer_user_id, orders\n",
    ")"
   ]
  },
  {
   "cell_type": "markdown",
   "metadata": {},
   "source": [
    "### Time between reorders\n",
    "\n",
    "We then decided to delve into the time side of the question. Firstly, we needed to convert the UNIX timestamp into a format that could easily be worked with and understood by humans. Again, we used the customer id to identify which were repeat orders, this time paired with the `order_time`. After matching with customer id, we iterated through the dictionary, taking the time difference between orders where this existed. As the time delta was in days, we converted this to years to make it easier to understand."
   ]
  },
  {
   "cell_type": "code",
   "execution_count": 80,
   "metadata": {},
   "outputs": [],
   "source": [
    "years, orders_by_customer = calculate_time_between_orders(buyer_user_id, orders)"
   ]
  },
  {
   "cell_type": "markdown",
   "metadata": {},
   "source": [
    "### Dates of Reorders\n",
    "\n",
    "Noticing that most reorders occurred at 1 year intervals, we wanted to better understand what the occasions were, and more specifically, whether they were country-wide holidays like Christmas and the Fourth of July, or person-specific dates such as birthdays. After dividing customers by single or repeat orders, we iterated over these groups individually to tally the months at which the orders occured. "
   ]
  },
  {
   "cell_type": "code",
   "execution_count": 81,
   "metadata": {},
   "outputs": [],
   "source": [
    "single_by_month, multiple_by_month = find_order_dates(orders_by_customer)"
   ]
  },
  {
   "cell_type": "markdown",
   "metadata": {},
   "source": [
    "### Number of orders by state\n",
    "\n",
    "After looking into when the orders occurred, we were interested in the 'where'. Using the data obtained through the Etsy API, we isolated the states to which the orders were shipped, and compounded a dictionary that counted how many orders were placed for each state. "
   ]
  },
  {
   "cell_type": "code",
   "execution_count": 82,
   "metadata": {},
   "outputs": [],
   "source": [
    "state_list = count_orders_by_state(orders)"
   ]
  },
  {
   "cell_type": "markdown",
   "metadata": {},
   "source": [
    "### Repeat order rate by state\n",
    "\n",
    "As our objective was to identify patterns in reorders, we had to repeat the above, this time making a distinction between single and multiple orders. We decided the best way to do this was to calculate for each state a percentage of returning customers, assessed by a percentage of reorders compared to total orders coming from each state. To do this, we created a function that creates a dictionary havign states as keys, and then proceeds to fill this dictionary with customer ids of orders placed in that state. After this, we count how many times customer ids appear in a given state, and use this value to calculate how many customers ordered more than once. However, it is important to notice that this was done only for states where the total number of customers exceeds 20, as a sample pool any smaller than that would be too small to draw reasonable conclusions from."
   ]
  },
  {
   "cell_type": "code",
   "execution_count": 83,
   "metadata": {},
   "outputs": [],
   "source": [
    "state_reorder_df = calculate_reorder_rate_by_state(orders)"
   ]
  },
  {
   "cell_type": "markdown",
   "metadata": {},
   "source": [
    "# Results\n",
    "\n",
    "## Visualizing Data\n",
    "\n",
    "### Understanding the number of customers that reorder\n",
    "For our first visualization we wanted to see the distribution of how the number of orders customers place to gain a general understanding of the repeat order rate. This will also help give context to the rest of the essay of how many customers are in the category of repeat customers.\n"
   ]
  },
  {
   "cell_type": "code",
   "execution_count": 84,
   "metadata": {},
   "outputs": [
    {
     "data": {
      "image/png": "[encoded data removed]",
      "text/plain": [
       "<Figure size 640x480 with 1 Axes>"
      ]
     },
     "metadata": {},
     "output_type": "display_data"
    }
   ],
   "source": [
    "labels = [str(item) for item in list(num_customers)]\n",
    "\n",
    "fig, ax = plt.subplots()\n",
    "bars = ax.bar(num_reorders, num_customers, label=labels)\n",
    "\n",
    "# Adding labels on top of each bar\n",
    "for bar in bars:\n",
    "    yval = bar.get_height()\n",
    "    plt.text(\n",
    "        bar.get_x() + bar.get_width() / 2,\n",
    "        yval + 1,\n",
    "        yval,\n",
    "        ha=\"center\",\n",
    "        va=\"bottom\",\n",
    "    )\n",
    "\n",
    "plt.xlabel(\"Number of orders a customer places\")\n",
    "plt.ylabel(\"Number of customers\")\n",
    "plt.title(\"Distribution of Number of Orders Placed\")\n",
    "\n",
    "plt.show()"
   ]
  },
  {
   "cell_type": "markdown",
   "metadata": {},
   "source": [
    "This visualization shows that the vast majority of customers are single order, a few place two orders, fewer place three, and so on. There are many factors from a business and branding perspective that could account for the low repeat customer rate. The first is that customers are unsatisfied with the product, but that is unlikely because 590 of the 600 reviews are five stars. Another potential factor is that customers aren't attached to my brand specifically, but rather the platform Etsy as a whole. This would mean that when they want to order more stationery, they won't go to Andrew's Etsy shop specifically, but rather search the whole platform and ultimetely order from a different shop.\n",
    "\n",
    "While the majority of customers don't repeat, there is a group of loyal customers who repeat order many times. This is seen in the data by 43 customers who order 3 times, 12 who order 4 times, 9 who order 5 times, and a few who have ordered even more than that. This suggests that brand loyalty does exist, but at low rates and through increased branding it is possible to grow these numbers more."
   ]
  },
  {
   "cell_type": "markdown",
   "metadata": {},
   "source": [
    "### Order Size\n",
    "\n",
    "With a general understanding of how many customers reorder, we wanted to better understand if there was a difference in size of customers who reorder vs not. For example, maybe repeat customers tend to place more smaller orders. These results could influence the value of trying to attract more repeat customers because if they place small orders on average our time may be more effectively spent attracting new higher value customers."
   ]
  },
  {
   "cell_type": "code",
   "execution_count": 85,
   "metadata": {},
   "outputs": [
    {
     "data": {
      "image/png": "[encoded data removed]",
      "text/plain": [
       "<Figure size 640x480 with 1 Axes>"
      ]
     },
     "metadata": {},
     "output_type": "display_data"
    }
   ],
   "source": [
    "fig, ax = plt.subplots()\n",
    "\n",
    "labels = [\"Single Order\", \"Multiple Order\"]\n",
    "amounts = [single_order_value, multiple_order_value]\n",
    "\n",
    "bars = ax.bar(range(len(labels)), amounts, align=\"center\")\n",
    "ax.set_xticks(range(len(labels)), labels=labels)\n",
    "ax.bar_label(bars, padding=3, label_type=\"edge\", fmt=\"$%.2f\")\n",
    "ax.set_ylabel(\"Average Order Size ($)\")\n",
    "ax.set_title(\"Average Order Size for Single and Multiple Order Customers\")\n",
    "ax.set_ylim(0, 42)\n",
    "\n",
    "plt.show()"
   ]
  },
  {
   "cell_type": "markdown",
   "metadata": {},
   "source": [
    "From this plot we can see that multiple order customers place marginally higher orders on average, but it isn't statistically significant. This is interesting because it disproves the theory that Andrew has seen anecdotally that repeat customers tend to place smaller orders. This means that it is worth trying to increase the repeat order rate becuase they are just as valuable as one offs. "
   ]
  },
  {
   "cell_type": "markdown",
   "metadata": {},
   "source": [
    "### Time between re-orders\n",
    "\n",
    "Another characteristic of repeat customers that we wanted to observe was the time difference between repeat orders. Do people typically wait to run out or reorder or reorder right away? Finding this out could help us inform the decision on how long after they order to market to past customers. We decided to visualize this as a Violin plot so that we could see the trends of the density of repeat orders with each spacing in a continuous manner without needing to choose bins for a histogram."
   ]
  },
  {
   "cell_type": "code",
   "execution_count": 86,
   "metadata": {},
   "outputs": [
    {
     "data": {
      "image/png": "[encoded data removed]",
      "text/plain": [
       "<Figure size 640x480 with 1 Axes>"
      ]
     },
     "metadata": {},
     "output_type": "display_data"
    }
   ],
   "source": [
    "plt.violinplot(years, showmeans=False, showmedians=False, showextrema=False)\n",
    "plt.ylabel(\"Years\")\n",
    "plt.xlabel(\"Density of Orders Placed\")\n",
    "plt.title(\"Time Between Repeat Orders\")\n",
    "plt.xticks([])\n",
    "plt.show()"
   ]
  },
  {
   "cell_type": "markdown",
   "metadata": {},
   "source": [
    "The plot shows that most of the repeat orders take place within a few months of the previous order, but there is also a bump around 9-12 months and two years. This suggests that the most effective marketing would be done at those increments after the first order is placed. This way it wouldn't be necessary to spam a customer because we have the data for precision targeted marketing."
   ]
  },
  {
   "cell_type": "markdown",
   "metadata": {},
   "source": [
    "### Understanding the dates of reorders\n",
    "\n",
    "Since we noticed a bump at around 1 and 2 years we wondered what could possibly cause this. One answer that came to mind fairly quickly was holidays and birthdays. To unpack the data further to answer this question we thus decided to look at the distribution of orders from single order and repeat order customers based on time of year. This way we could see trends around holidays."
   ]
  },
  {
   "cell_type": "code",
   "execution_count": 87,
   "metadata": {},
   "outputs": [
    {
     "data": {
      "image/png": "[encoded data removed]",
      "text/plain": [
       "<Figure size 640x480 with 1 Axes>"
      ]
     },
     "metadata": {},
     "output_type": "display_data"
    }
   ],
   "source": [
    "months_abbreviations = [\n",
    "    \"Jan\",\n",
    "    \"Feb\",\n",
    "    \"Mar\",\n",
    "    \"Apr\",\n",
    "    \"May\",\n",
    "    \"Jun\",\n",
    "    \"Jul\",\n",
    "    \"Aug\",\n",
    "    \"Sep\",\n",
    "    \"Oct\",\n",
    "    \"Nov\",\n",
    "    \"Dec\",\n",
    "]\n",
    "\n",
    "fig, ax = plt.subplots()\n",
    "bottom = 12\n",
    "\n",
    "width = 0.75\n",
    "\n",
    "for index in range(12):\n",
    "    p = ax.bar(\n",
    "        months_abbreviations[index],\n",
    "        single_by_month[index],\n",
    "        width,\n",
    "        bottom=0,\n",
    "        color=\"blue\",\n",
    "    )\n",
    "    q = ax.bar(\n",
    "        months_abbreviations[index],\n",
    "        multiple_by_month[index],\n",
    "        width,\n",
    "        bottom=single_by_month[index],\n",
    "        color=\"red\",\n",
    "    )\n",
    "\n",
    "    ax.bar_label(p, label_type=\"center\")\n",
    "    ax.bar_label(q, label_type=\"center\")\n",
    "\n",
    "ax.set_title(\"Orders by Repeat vs Single Order Customers v. Month\")\n",
    "ax.legend([\"Orders by single order customers\", \"Orders by repeat customers\"])\n",
    "\n",
    "plt.show()"
   ]
  },
  {
   "cell_type": "markdown",
   "metadata": {},
   "source": [
    "Looking at the data there are a few key trends to take stock of. The first is that repeat customers tend to place the most orders in May and June and November and December. This confirms our hypothesis that customers place the most repeat orders around holidays/occasions. In May/June one of the main reasons to order personalized stationery is graduation gifts/thank you notes and November/December is of course Christmas gifts. This can help further inform marketing to suggest increase efforts in graduation season and the holidays.\n",
    "\n",
    "Another trend to note is that there is a significant number of single order customers that order around the holidays. Combining this finding with the finding of the previous graph that many repeat customers order within a few months after their previous order means that an effective strategy to turn these buyers into repeat customers would be increasing marketing targeting these first time customers in January, February, and March."
   ]
  },
  {
   "cell_type": "markdown",
   "metadata": {},
   "source": [
    "### Orders per state\n",
    "\n",
    "Analyzing the time orders occurred at made us curious about exploring where these orders were occurring and if certain parts of the country had a higher repeat order rate. Using the data pulled using the Etsy API, we plotted the shipping addresses to see what countries were most common. However, we quickly realised all but 3 orders occurred within the USA. Thus, we decided to narrow down our search, to plot what states orders came from. \n",
    "\n",
    "We first started by plotting the number of orders shipped to each state to get a broad geographic understanding before focusing on repeat customers. It is important to note that since Texas has such a large number of orders (250 compared 160 being next highest), we scaled the colors so that 150+ is the darkest shade of green to enable more contrast between the rest of the states. "
   ]
  },
  {
   "cell_type": "code",
   "execution_count": 88,
   "metadata": {},
   "outputs": [
    {
     "data": {
      "application/vnd.plotly.v1+json": {
       "config": {
        "plotlyServerURL": "https://plot.ly"
       },
       "data": [
        {
         "coloraxis": "coloraxis",
         "geo": "geo",
         "hovertemplate": "state=%{location}<br>Number of Orders=%{z}<extra></extra>",
         "locationmode": "USA-states",
         "locations": [
          "VA",
          "TX",
          "MA",
          "SC",
          "OH",
          "GA",
          "NC",
          "NJ",
          "LA",
          "UT",
          "AL",
          "CA",
          "MO",
          "IA",
          "CT",
          "FL",
          "IN",
          "NY",
          "DC",
          "TN",
          "KY",
          "AR",
          "PA",
          "CO",
          "ID",
          "MI",
          "KS",
          "MD",
          "OK",
          "MS",
          "AZ",
          "RI",
          "NV",
          "IL",
          "ME",
          "MN",
          "WA",
          "WI",
          "NH",
          "NE",
          "VT",
          "DE",
          "WV",
          "BC",
          "OR",
          "ON",
          "MT",
          "NM",
          "WY",
          "HI",
          "SD"
         ],
         "name": "",
         "type": "choropleth",
         "z": [
          157,
          255,
          86,
          101,
          66,
          124,
          163,
          64,
          38,
          9,
          98,
          123,
          44,
          11,
          61,
          104,
          29,
          106,
          20,
          78,
          32,
          21,
          63,
          140,
          5,
          27,
          26,
          63,
          25,
          44,
          14,
          6,
          7,
          99,
          30,
          21,
          13,
          14,
          12,
          10,
          4,
          14,
          3,
          2,
          12,
          1,
          5,
          1,
          1,
          1,
          1
         ]
        }
       ],
       "layout": {
        "coloraxis": {
         "cmax": 150,
         "cmin": 0,
         "colorbar": {
          "title": {
           "text": "Number of Orders"
          }
         },
         "colorscale": [
          [
           0,
           "rgb(247,252,245)"
          ],
          [
           0.125,
           "rgb(229,245,224)"
          ],
          [
           0.25,
           "rgb(199,233,192)"
          ],
          [
           0.375,
           "rgb(161,217,155)"
          ],
          [
           0.5,
           "rgb(116,196,118)"
          ],
          [
           0.625,
           "rgb(65,171,93)"
          ],
          [
           0.75,
           "rgb(35,139,69)"
          ],
          [
           0.875,
           "rgb(0,109,44)"
          ],
          [
           1,
           "rgb(0,68,27)"
          ]
         ]
        },
        "geo": {
         "center": {},
         "domain": {
          "x": [
           0,
           1
          ],
          "y": [
           0,
           1
          ]
         },
         "scope": "usa"
        },
        "legend": {
         "tracegroupgap": 0
        },
        "margin": {
         "b": 30,
         "l": 0,
         "r": 20,
         "t": 80
        },
        "template": {
         "data": {
          "bar": [
           {
            "error_x": {
             "color": "#2a3f5f"
            },
            "error_y": {
             "color": "#2a3f5f"
            },
            "marker": {
             "line": {
              "color": "#E5ECF6",
              "width": 0.5
             },
             "pattern": {
              "fillmode": "overlay",
              "size": 10,
              "solidity": 0.2
             }
            },
            "type": "bar"
           }
          ],
          "barpolar": [
           {
            "marker": {
             "line": {
              "color": "#E5ECF6",
              "width": 0.5
             },
             "pattern": {
              "fillmode": "overlay",
              "size": 10,
              "solidity": 0.2
             }
            },
            "type": "barpolar"
           }
          ],
          "carpet": [
           {
            "aaxis": {
             "endlinecolor": "#2a3f5f",
             "gridcolor": "white",
             "linecolor": "white",
             "minorgridcolor": "white",
             "startlinecolor": "#2a3f5f"
            },
            "baxis": {
             "endlinecolor": "#2a3f5f",
             "gridcolor": "white",
             "linecolor": "white",
             "minorgridcolor": "white",
             "startlinecolor": "#2a3f5f"
            },
            "type": "carpet"
           }
          ],
          "choropleth": [
           {
            "colorbar": {
             "outlinewidth": 0,
             "ticks": ""
            },
            "type": "choropleth"
           }
          ],
          "contour": [
           {
            "colorbar": {
             "outlinewidth": 0,
             "ticks": ""
            },
            "colorscale": [
             [
              0,
              "#0d0887"
             ],
             [
              0.1111111111111111,
              "#46039f"
             ],
             [
              0.2222222222222222,
              "#7201a8"
             ],
             [
              0.3333333333333333,
              "#9c179e"
             ],
             [
              0.4444444444444444,
              "#bd3786"
             ],
             [
              0.5555555555555556,
              "#d8576b"
             ],
             [
              0.6666666666666666,
              "#ed7953"
             ],
             [
              0.7777777777777778,
              "#fb9f3a"
             ],
             [
              0.8888888888888888,
              "#fdca26"
             ],
             [
              1,
              "#f0f921"
             ]
            ],
            "type": "contour"
           }
          ],
          "contourcarpet": [
           {
            "colorbar": {
             "outlinewidth": 0,
             "ticks": ""
            },
            "type": "contourcarpet"
           }
          ],
          "heatmap": [
           {
            "colorbar": {
             "outlinewidth": 0,
             "ticks": ""
            },
            "colorscale": [
             [
              0,
              "#0d0887"
             ],
             [
              0.1111111111111111,
              "#46039f"
             ],
             [
              0.2222222222222222,
              "#7201a8"
             ],
             [
              0.3333333333333333,
              "#9c179e"
             ],
             [
              0.4444444444444444,
              "#bd3786"
             ],
             [
              0.5555555555555556,
              "#d8576b"
             ],
             [
              0.6666666666666666,
              "#ed7953"
             ],
             [
              0.7777777777777778,
              "#fb9f3a"
             ],
             [
              0.8888888888888888,
              "#fdca26"
             ],
             [
              1,
              "#f0f921"
             ]
            ],
            "type": "heatmap"
           }
          ],
          "heatmapgl": [
           {
            "colorbar": {
             "outlinewidth": 0,
             "ticks": ""
            },
            "colorscale": [
             [
              0,
              "#0d0887"
             ],
             [
              0.1111111111111111,
              "#46039f"
             ],
             [
              0.2222222222222222,
              "#7201a8"
             ],
             [
              0.3333333333333333,
              "#9c179e"
             ],
             [
              0.4444444444444444,
              "#bd3786"
             ],
             [
              0.5555555555555556,
              "#d8576b"
             ],
             [
              0.6666666666666666,
              "#ed7953"
             ],
             [
              0.7777777777777778,
              "#fb9f3a"
             ],
             [
              0.8888888888888888,
              "#fdca26"
             ],
             [
              1,
              "#f0f921"
             ]
            ],
            "type": "heatmapgl"
           }
          ],
          "histogram": [
           {
            "marker": {
             "pattern": {
              "fillmode": "overlay",
              "size": 10,
              "solidity": 0.2
             }
            },
            "type": "histogram"
           }
          ],
          "histogram2d": [
           {
            "colorbar": {
             "outlinewidth": 0,
             "ticks": ""
            },
            "colorscale": [
             [
              0,
              "#0d0887"
             ],
             [
              0.1111111111111111,
              "#46039f"
             ],
             [
              0.2222222222222222,
              "#7201a8"
             ],
             [
              0.3333333333333333,
              "#9c179e"
             ],
             [
              0.4444444444444444,
              "#bd3786"
             ],
             [
              0.5555555555555556,
              "#d8576b"
             ],
             [
              0.6666666666666666,
              "#ed7953"
             ],
             [
              0.7777777777777778,
              "#fb9f3a"
             ],
             [
              0.8888888888888888,
              "#fdca26"
             ],
             [
              1,
              "#f0f921"
             ]
            ],
            "type": "histogram2d"
           }
          ],
          "histogram2dcontour": [
           {
            "colorbar": {
             "outlinewidth": 0,
             "ticks": ""
            },
            "colorscale": [
             [
              0,
              "#0d0887"
             ],
             [
              0.1111111111111111,
              "#46039f"
             ],
             [
              0.2222222222222222,
              "#7201a8"
             ],
             [
              0.3333333333333333,
              "#9c179e"
             ],
             [
              0.4444444444444444,
              "#bd3786"
             ],
             [
              0.5555555555555556,
              "#d8576b"
             ],
             [
              0.6666666666666666,
              "#ed7953"
             ],
             [
              0.7777777777777778,
              "#fb9f3a"
             ],
             [
              0.8888888888888888,
              "#fdca26"
             ],
             [
              1,
              "#f0f921"
             ]
            ],
            "type": "histogram2dcontour"
           }
          ],
          "mesh3d": [
           {
            "colorbar": {
             "outlinewidth": 0,
             "ticks": ""
            },
            "type": "mesh3d"
           }
          ],
          "parcoords": [
           {
            "line": {
             "colorbar": {
              "outlinewidth": 0,
              "ticks": ""
             }
            },
            "type": "parcoords"
           }
          ],
          "pie": [
           {
            "automargin": true,
            "type": "pie"
           }
          ],
          "scatter": [
           {
            "fillpattern": {
             "fillmode": "overlay",
             "size": 10,
             "solidity": 0.2
            },
            "type": "scatter"
           }
          ],
          "scatter3d": [
           {
            "line": {
             "colorbar": {
              "outlinewidth": 0,
              "ticks": ""
             }
            },
            "marker": {
             "colorbar": {
              "outlinewidth": 0,
              "ticks": ""
             }
            },
            "type": "scatter3d"
           }
          ],
          "scattercarpet": [
           {
            "marker": {
             "colorbar": {
              "outlinewidth": 0,
              "ticks": ""
             }
            },
            "type": "scattercarpet"
           }
          ],
          "scattergeo": [
           {
            "marker": {
             "colorbar": {
              "outlinewidth": 0,
              "ticks": ""
             }
            },
            "type": "scattergeo"
           }
          ],
          "scattergl": [
           {
            "marker": {
             "colorbar": {
              "outlinewidth": 0,
              "ticks": ""
             }
            },
            "type": "scattergl"
           }
          ],
          "scattermapbox": [
           {
            "marker": {
             "colorbar": {
              "outlinewidth": 0,
              "ticks": ""
             }
            },
            "type": "scattermapbox"
           }
          ],
          "scatterpolar": [
           {
            "marker": {
             "colorbar": {
              "outlinewidth": 0,
              "ticks": ""
             }
            },
            "type": "scatterpolar"
           }
          ],
          "scatterpolargl": [
           {
            "marker": {
             "colorbar": {
              "outlinewidth": 0,
              "ticks": ""
             }
            },
            "type": "scatterpolargl"
           }
          ],
          "scatterternary": [
           {
            "marker": {
             "colorbar": {
              "outlinewidth": 0,
              "ticks": ""
             }
            },
            "type": "scatterternary"
           }
          ],
          "surface": [
           {
            "colorbar": {
             "outlinewidth": 0,
             "ticks": ""
            },
            "colorscale": [
             [
              0,
              "#0d0887"
             ],
             [
              0.1111111111111111,
              "#46039f"
             ],
             [
              0.2222222222222222,
              "#7201a8"
             ],
             [
              0.3333333333333333,
              "#9c179e"
             ],
             [
              0.4444444444444444,
              "#bd3786"
             ],
             [
              0.5555555555555556,
              "#d8576b"
             ],
             [
              0.6666666666666666,
              "#ed7953"
             ],
             [
              0.7777777777777778,
              "#fb9f3a"
             ],
             [
              0.8888888888888888,
              "#fdca26"
             ],
             [
              1,
              "#f0f921"
             ]
            ],
            "type": "surface"
           }
          ],
          "table": [
           {
            "cells": {
             "fill": {
              "color": "#EBF0F8"
             },
             "line": {
              "color": "white"
             }
            },
            "header": {
             "fill": {
              "color": "#C8D4E3"
             },
             "line": {
              "color": "white"
             }
            },
            "type": "table"
           }
          ]
         },
         "layout": {
          "annotationdefaults": {
           "arrowcolor": "#2a3f5f",
           "arrowhead": 0,
           "arrowwidth": 1
          },
          "autotypenumbers": "strict",
          "coloraxis": {
           "colorbar": {
            "outlinewidth": 0,
            "ticks": ""
           }
          },
          "colorscale": {
           "diverging": [
            [
             0,
             "#8e0152"
            ],
            [
             0.1,
             "#c51b7d"
            ],
            [
             0.2,
             "#de77ae"
            ],
            [
             0.3,
             "#f1b6da"
            ],
            [
             0.4,
             "#fde0ef"
            ],
            [
             0.5,
             "#f7f7f7"
            ],
            [
             0.6,
             "#e6f5d0"
            ],
            [
             0.7,
             "#b8e186"
            ],
            [
             0.8,
             "#7fbc41"
            ],
            [
             0.9,
             "#4d9221"
            ],
            [
             1,
             "#276419"
            ]
           ],
           "sequential": [
            [
             0,
             "#0d0887"
            ],
            [
             0.1111111111111111,
             "#46039f"
            ],
            [
             0.2222222222222222,
             "#7201a8"
            ],
            [
             0.3333333333333333,
             "#9c179e"
            ],
            [
             0.4444444444444444,
             "#bd3786"
            ],
            [
             0.5555555555555556,
             "#d8576b"
            ],
            [
             0.6666666666666666,
             "#ed7953"
            ],
            [
             0.7777777777777778,
             "#fb9f3a"
            ],
            [
             0.8888888888888888,
             "#fdca26"
            ],
            [
             1,
             "#f0f921"
            ]
           ],
           "sequentialminus": [
            [
             0,
             "#0d0887"
            ],
            [
             0.1111111111111111,
             "#46039f"
            ],
            [
             0.2222222222222222,
             "#7201a8"
            ],
            [
             0.3333333333333333,
             "#9c179e"
            ],
            [
             0.4444444444444444,
             "#bd3786"
            ],
            [
             0.5555555555555556,
             "#d8576b"
            ],
            [
             0.6666666666666666,
             "#ed7953"
            ],
            [
             0.7777777777777778,
             "#fb9f3a"
            ],
            [
             0.8888888888888888,
             "#fdca26"
            ],
            [
             1,
             "#f0f921"
            ]
           ]
          },
          "colorway": [
           "#636efa",
           "#EF553B",
           "#00cc96",
           "#ab63fa",
           "#FFA15A",
           "#19d3f3",
           "#FF6692",
           "#B6E880",
           "#FF97FF",
           "#FECB52"
          ],
          "font": {
           "color": "#2a3f5f"
          },
          "geo": {
           "bgcolor": "white",
           "lakecolor": "white",
           "landcolor": "#E5ECF6",
           "showlakes": true,
           "showland": true,
           "subunitcolor": "white"
          },
          "hoverlabel": {
           "align": "left"
          },
          "hovermode": "closest",
          "mapbox": {
           "style": "light"
          },
          "paper_bgcolor": "white",
          "plot_bgcolor": "#E5ECF6",
          "polar": {
           "angularaxis": {
            "gridcolor": "white",
            "linecolor": "white",
            "ticks": ""
           },
           "bgcolor": "#E5ECF6",
           "radialaxis": {
            "gridcolor": "white",
            "linecolor": "white",
            "ticks": ""
           }
          },
          "scene": {
           "xaxis": {
            "backgroundcolor": "#E5ECF6",
            "gridcolor": "white",
            "gridwidth": 2,
            "linecolor": "white",
            "showbackground": true,
            "ticks": "",
            "zerolinecolor": "white"
           },
           "yaxis": {
            "backgroundcolor": "#E5ECF6",
            "gridcolor": "white",
            "gridwidth": 2,
            "linecolor": "white",
            "showbackground": true,
            "ticks": "",
            "zerolinecolor": "white"
           },
           "zaxis": {
            "backgroundcolor": "#E5ECF6",
            "gridcolor": "white",
            "gridwidth": 2,
            "linecolor": "white",
            "showbackground": true,
            "ticks": "",
            "zerolinecolor": "white"
           }
          },
          "shapedefaults": {
           "line": {
            "color": "#2a3f5f"
           }
          },
          "ternary": {
           "aaxis": {
            "gridcolor": "white",
            "linecolor": "white",
            "ticks": ""
           },
           "baxis": {
            "gridcolor": "white",
            "linecolor": "white",
            "ticks": ""
           },
           "bgcolor": "#E5ECF6",
           "caxis": {
            "gridcolor": "white",
            "linecolor": "white",
            "ticks": ""
           }
          },
          "title": {
           "x": 0.05
          },
          "xaxis": {
           "automargin": true,
           "gridcolor": "white",
           "linecolor": "white",
           "ticks": "",
           "title": {
            "standoff": 15
           },
           "zerolinecolor": "white",
           "zerolinewidth": 2
          },
          "yaxis": {
           "automargin": true,
           "gridcolor": "white",
           "linecolor": "white",
           "ticks": "",
           "title": {
            "standoff": 15
           },
           "zerolinecolor": "white",
           "zerolinewidth": 2
          }
         }
        },
        "title": {
         "text": "Number of Orders by State"
        }
       }
      }
     },
     "metadata": {},
     "output_type": "display_data"
    }
   ],
   "source": [
    "fig = px.choropleth(\n",
    "    state_list,\n",
    "    locationmode=\"USA-states\",\n",
    "    locations=\"state\",\n",
    "    color=\"number_of_orders\",\n",
    "    color_continuous_scale=\"Greens\",\n",
    "    range_color=(0, 150),\n",
    "    scope=\"usa\",\n",
    "    labels={\"number_of_orders\": \"Number of Orders\"},\n",
    ")\n",
    "fig.update_layout(\n",
    "    title_text=\"Number of Orders by State\",\n",
    "    geo_scope=\"usa\",\n",
    "    margin={\"r\": 20, \"t\": 80, \"l\": 0, \"b\": 30},\n",
    ")\n",
    "fig.show()"
   ]
  },
  {
   "cell_type": "markdown",
   "metadata": {},
   "source": [
    "The graph shows that bulk of the customers are in the eastern half of the US, Texas, Colorado, and California. Among the Eastern US, the South is the strongest, but there are still strong sales in the mid-atlantic region and Massachussets. It is interesting that there are only three states west of the Mississippi with meaningful numbers of sales. Colorado makes sense Since Andrew is from there, so it has a large number of orders due to family/friends. It also makes sense that Texas is far and away the biggest state in terms of sales because it still has the more traditional southern culture, but also has a huge population. That leaves California as a geographic outlier. \n",
    "\n",
    "This data is useful because it can inform decisions about what markets to expand into and designs to make. For example, since Texas is the biggest state, it would make sense to design a Texas themed pack of stationery."
   ]
  },
  {
   "cell_type": "markdown",
   "metadata": {},
   "source": [
    "### Repeat order rate by state\n",
    "With the geographic distribution of the orders in mind, we created a map of the percent repeat customers in each state. To ensure a more accurate visualization, we filtered out the states with fewer than 20 customers. This prevents cases where a state may only have a few customers, so if one of them reorders the reorder rate is articially high. "
   ]
  },
  {
   "cell_type": "code",
   "execution_count": 89,
   "metadata": {},
   "outputs": [
    {
     "data": {
      "application/vnd.plotly.v1+json": {
       "config": {
        "plotlyServerURL": "https://plot.ly"
       },
       "data": [
        {
         "coloraxis": "coloraxis",
         "geo": "geo",
         "hovertemplate": "state=%{location}<br>Percent Repeat Customers by State=%{z}<extra></extra>",
         "locationmode": "USA-states",
         "locations": [
          "VA",
          "TX",
          "MA",
          "SC",
          "OH",
          "GA",
          "NC",
          "NJ",
          "LA",
          "AL",
          "CA",
          "MO",
          "CT",
          "FL",
          "IN",
          "NY",
          "TN",
          "KY",
          "PA",
          "CO",
          "MI",
          "MD",
          "OK",
          "MS",
          "IL",
          "MN"
         ],
         "name": "",
         "type": "choropleth",
         "z": [
          12.173913043478262,
          13.82488479262673,
          5,
          14.457831325301203,
          9.090909090909092,
          10.185185185185185,
          10.714285714285714,
          18.51851851851852,
          2.941176470588235,
          13.253012048192772,
          11.11111111111111,
          7.5,
          13.725490196078432,
          10.75268817204301,
          12,
          10.416666666666668,
          11.76470588235294,
          14.285714285714285,
          7.142857142857142,
          10.344827586206897,
          9.090909090909092,
          11.538461538461538,
          8.695652173913043,
          10,
          15,
          0
         ]
        }
       ],
       "layout": {
        "coloraxis": {
         "cmax": 20,
         "cmin": 0,
         "colorbar": {
          "title": {
           "text": "Percent Repeat Customers by State"
          }
         },
         "colorscale": [
          [
           0,
           "rgb(247,252,245)"
          ],
          [
           0.125,
           "rgb(229,245,224)"
          ],
          [
           0.25,
           "rgb(199,233,192)"
          ],
          [
           0.375,
           "rgb(161,217,155)"
          ],
          [
           0.5,
           "rgb(116,196,118)"
          ],
          [
           0.625,
           "rgb(65,171,93)"
          ],
          [
           0.75,
           "rgb(35,139,69)"
          ],
          [
           0.875,
           "rgb(0,109,44)"
          ],
          [
           1,
           "rgb(0,68,27)"
          ]
         ]
        },
        "geo": {
         "center": {},
         "domain": {
          "x": [
           0,
           1
          ],
          "y": [
           0,
           1
          ]
         },
         "scope": "usa"
        },
        "legend": {
         "tracegroupgap": 0
        },
        "margin": {
         "b": 30,
         "l": 0,
         "r": 20,
         "t": 80
        },
        "template": {
         "data": {
          "bar": [
           {
            "error_x": {
             "color": "#2a3f5f"
            },
            "error_y": {
             "color": "#2a3f5f"
            },
            "marker": {
             "line": {
              "color": "#E5ECF6",
              "width": 0.5
             },
             "pattern": {
              "fillmode": "overlay",
              "size": 10,
              "solidity": 0.2
             }
            },
            "type": "bar"
           }
          ],
          "barpolar": [
           {
            "marker": {
             "line": {
              "color": "#E5ECF6",
              "width": 0.5
             },
             "pattern": {
              "fillmode": "overlay",
              "size": 10,
              "solidity": 0.2
             }
            },
            "type": "barpolar"
           }
          ],
          "carpet": [
           {
            "aaxis": {
             "endlinecolor": "#2a3f5f",
             "gridcolor": "white",
             "linecolor": "white",
             "minorgridcolor": "white",
             "startlinecolor": "#2a3f5f"
            },
            "baxis": {
             "endlinecolor": "#2a3f5f",
             "gridcolor": "white",
             "linecolor": "white",
             "minorgridcolor": "white",
             "startlinecolor": "#2a3f5f"
            },
            "type": "carpet"
           }
          ],
          "choropleth": [
           {
            "colorbar": {
             "outlinewidth": 0,
             "ticks": ""
            },
            "type": "choropleth"
           }
          ],
          "contour": [
           {
            "colorbar": {
             "outlinewidth": 0,
             "ticks": ""
            },
            "colorscale": [
             [
              0,
              "#0d0887"
             ],
             [
              0.1111111111111111,
              "#46039f"
             ],
             [
              0.2222222222222222,
              "#7201a8"
             ],
             [
              0.3333333333333333,
              "#9c179e"
             ],
             [
              0.4444444444444444,
              "#bd3786"
             ],
             [
              0.5555555555555556,
              "#d8576b"
             ],
             [
              0.6666666666666666,
              "#ed7953"
             ],
             [
              0.7777777777777778,
              "#fb9f3a"
             ],
             [
              0.8888888888888888,
              "#fdca26"
             ],
             [
              1,
              "#f0f921"
             ]
            ],
            "type": "contour"
           }
          ],
          "contourcarpet": [
           {
            "colorbar": {
             "outlinewidth": 0,
             "ticks": ""
            },
            "type": "contourcarpet"
           }
          ],
          "heatmap": [
           {
            "colorbar": {
             "outlinewidth": 0,
             "ticks": ""
            },
            "colorscale": [
             [
              0,
              "#0d0887"
             ],
             [
              0.1111111111111111,
              "#46039f"
             ],
             [
              0.2222222222222222,
              "#7201a8"
             ],
             [
              0.3333333333333333,
              "#9c179e"
             ],
             [
              0.4444444444444444,
              "#bd3786"
             ],
             [
              0.5555555555555556,
              "#d8576b"
             ],
             [
              0.6666666666666666,
              "#ed7953"
             ],
             [
              0.7777777777777778,
              "#fb9f3a"
             ],
             [
              0.8888888888888888,
              "#fdca26"
             ],
             [
              1,
              "#f0f921"
             ]
            ],
            "type": "heatmap"
           }
          ],
          "heatmapgl": [
           {
            "colorbar": {
             "outlinewidth": 0,
             "ticks": ""
            },
            "colorscale": [
             [
              0,
              "#0d0887"
             ],
             [
              0.1111111111111111,
              "#46039f"
             ],
             [
              0.2222222222222222,
              "#7201a8"
             ],
             [
              0.3333333333333333,
              "#9c179e"
             ],
             [
              0.4444444444444444,
              "#bd3786"
             ],
             [
              0.5555555555555556,
              "#d8576b"
             ],
             [
              0.6666666666666666,
              "#ed7953"
             ],
             [
              0.7777777777777778,
              "#fb9f3a"
             ],
             [
              0.8888888888888888,
              "#fdca26"
             ],
             [
              1,
              "#f0f921"
             ]
            ],
            "type": "heatmapgl"
           }
          ],
          "histogram": [
           {
            "marker": {
             "pattern": {
              "fillmode": "overlay",
              "size": 10,
              "solidity": 0.2
             }
            },
            "type": "histogram"
           }
          ],
          "histogram2d": [
           {
            "colorbar": {
             "outlinewidth": 0,
             "ticks": ""
            },
            "colorscale": [
             [
              0,
              "#0d0887"
             ],
             [
              0.1111111111111111,
              "#46039f"
             ],
             [
              0.2222222222222222,
              "#7201a8"
             ],
             [
              0.3333333333333333,
              "#9c179e"
             ],
             [
              0.4444444444444444,
              "#bd3786"
             ],
             [
              0.5555555555555556,
              "#d8576b"
             ],
             [
              0.6666666666666666,
              "#ed7953"
             ],
             [
              0.7777777777777778,
              "#fb9f3a"
             ],
             [
              0.8888888888888888,
              "#fdca26"
             ],
             [
              1,
              "#f0f921"
             ]
            ],
            "type": "histogram2d"
           }
          ],
          "histogram2dcontour": [
           {
            "colorbar": {
             "outlinewidth": 0,
             "ticks": ""
            },
            "colorscale": [
             [
              0,
              "#0d0887"
             ],
             [
              0.1111111111111111,
              "#46039f"
             ],
             [
              0.2222222222222222,
              "#7201a8"
             ],
             [
              0.3333333333333333,
              "#9c179e"
             ],
             [
              0.4444444444444444,
              "#bd3786"
             ],
             [
              0.5555555555555556,
              "#d8576b"
             ],
             [
              0.6666666666666666,
              "#ed7953"
             ],
             [
              0.7777777777777778,
              "#fb9f3a"
             ],
             [
              0.8888888888888888,
              "#fdca26"
             ],
             [
              1,
              "#f0f921"
             ]
            ],
            "type": "histogram2dcontour"
           }
          ],
          "mesh3d": [
           {
            "colorbar": {
             "outlinewidth": 0,
             "ticks": ""
            },
            "type": "mesh3d"
           }
          ],
          "parcoords": [
           {
            "line": {
             "colorbar": {
              "outlinewidth": 0,
              "ticks": ""
             }
            },
            "type": "parcoords"
           }
          ],
          "pie": [
           {
            "automargin": true,
            "type": "pie"
           }
          ],
          "scatter": [
           {
            "fillpattern": {
             "fillmode": "overlay",
             "size": 10,
             "solidity": 0.2
            },
            "type": "scatter"
           }
          ],
          "scatter3d": [
           {
            "line": {
             "colorbar": {
              "outlinewidth": 0,
              "ticks": ""
             }
            },
            "marker": {
             "colorbar": {
              "outlinewidth": 0,
              "ticks": ""
             }
            },
            "type": "scatter3d"
           }
          ],
          "scattercarpet": [
           {
            "marker": {
             "colorbar": {
              "outlinewidth": 0,
              "ticks": ""
             }
            },
            "type": "scattercarpet"
           }
          ],
          "scattergeo": [
           {
            "marker": {
             "colorbar": {
              "outlinewidth": 0,
              "ticks": ""
             }
            },
            "type": "scattergeo"
           }
          ],
          "scattergl": [
           {
            "marker": {
             "colorbar": {
              "outlinewidth": 0,
              "ticks": ""
             }
            },
            "type": "scattergl"
           }
          ],
          "scattermapbox": [
           {
            "marker": {
             "colorbar": {
              "outlinewidth": 0,
              "ticks": ""
             }
            },
            "type": "scattermapbox"
           }
          ],
          "scatterpolar": [
           {
            "marker": {
             "colorbar": {
              "outlinewidth": 0,
              "ticks": ""
             }
            },
            "type": "scatterpolar"
           }
          ],
          "scatterpolargl": [
           {
            "marker": {
             "colorbar": {
              "outlinewidth": 0,
              "ticks": ""
             }
            },
            "type": "scatterpolargl"
           }
          ],
          "scatterternary": [
           {
            "marker": {
             "colorbar": {
              "outlinewidth": 0,
              "ticks": ""
             }
            },
            "type": "scatterternary"
           }
          ],
          "surface": [
           {
            "colorbar": {
             "outlinewidth": 0,
             "ticks": ""
            },
            "colorscale": [
             [
              0,
              "#0d0887"
             ],
             [
              0.1111111111111111,
              "#46039f"
             ],
             [
              0.2222222222222222,
              "#7201a8"
             ],
             [
              0.3333333333333333,
              "#9c179e"
             ],
             [
              0.4444444444444444,
              "#bd3786"
             ],
             [
              0.5555555555555556,
              "#d8576b"
             ],
             [
              0.6666666666666666,
              "#ed7953"
             ],
             [
              0.7777777777777778,
              "#fb9f3a"
             ],
             [
              0.8888888888888888,
              "#fdca26"
             ],
             [
              1,
              "#f0f921"
             ]
            ],
            "type": "surface"
           }
          ],
          "table": [
           {
            "cells": {
             "fill": {
              "color": "#EBF0F8"
             },
             "line": {
              "color": "white"
             }
            },
            "header": {
             "fill": {
              "color": "#C8D4E3"
             },
             "line": {
              "color": "white"
             }
            },
            "type": "table"
           }
          ]
         },
         "layout": {
          "annotationdefaults": {
           "arrowcolor": "#2a3f5f",
           "arrowhead": 0,
           "arrowwidth": 1
          },
          "autotypenumbers": "strict",
          "coloraxis": {
           "colorbar": {
            "outlinewidth": 0,
            "ticks": ""
           }
          },
          "colorscale": {
           "diverging": [
            [
             0,
             "#8e0152"
            ],
            [
             0.1,
             "#c51b7d"
            ],
            [
             0.2,
             "#de77ae"
            ],
            [
             0.3,
             "#f1b6da"
            ],
            [
             0.4,
             "#fde0ef"
            ],
            [
             0.5,
             "#f7f7f7"
            ],
            [
             0.6,
             "#e6f5d0"
            ],
            [
             0.7,
             "#b8e186"
            ],
            [
             0.8,
             "#7fbc41"
            ],
            [
             0.9,
             "#4d9221"
            ],
            [
             1,
             "#276419"
            ]
           ],
           "sequential": [
            [
             0,
             "#0d0887"
            ],
            [
             0.1111111111111111,
             "#46039f"
            ],
            [
             0.2222222222222222,
             "#7201a8"
            ],
            [
             0.3333333333333333,
             "#9c179e"
            ],
            [
             0.4444444444444444,
             "#bd3786"
            ],
            [
             0.5555555555555556,
             "#d8576b"
            ],
            [
             0.6666666666666666,
             "#ed7953"
            ],
            [
             0.7777777777777778,
             "#fb9f3a"
            ],
            [
             0.8888888888888888,
             "#fdca26"
            ],
            [
             1,
             "#f0f921"
            ]
           ],
           "sequentialminus": [
            [
             0,
             "#0d0887"
            ],
            [
             0.1111111111111111,
             "#46039f"
            ],
            [
             0.2222222222222222,
             "#7201a8"
            ],
            [
             0.3333333333333333,
             "#9c179e"
            ],
            [
             0.4444444444444444,
             "#bd3786"
            ],
            [
             0.5555555555555556,
             "#d8576b"
            ],
            [
             0.6666666666666666,
             "#ed7953"
            ],
            [
             0.7777777777777778,
             "#fb9f3a"
            ],
            [
             0.8888888888888888,
             "#fdca26"
            ],
            [
             1,
             "#f0f921"
            ]
           ]
          },
          "colorway": [
           "#636efa",
           "#EF553B",
           "#00cc96",
           "#ab63fa",
           "#FFA15A",
           "#19d3f3",
           "#FF6692",
           "#B6E880",
           "#FF97FF",
           "#FECB52"
          ],
          "font": {
           "color": "#2a3f5f"
          },
          "geo": {
           "bgcolor": "white",
           "lakecolor": "white",
           "landcolor": "#E5ECF6",
           "showlakes": true,
           "showland": true,
           "subunitcolor": "white"
          },
          "hoverlabel": {
           "align": "left"
          },
          "hovermode": "closest",
          "mapbox": {
           "style": "light"
          },
          "paper_bgcolor": "white",
          "plot_bgcolor": "#E5ECF6",
          "polar": {
           "angularaxis": {
            "gridcolor": "white",
            "linecolor": "white",
            "ticks": ""
           },
           "bgcolor": "#E5ECF6",
           "radialaxis": {
            "gridcolor": "white",
            "linecolor": "white",
            "ticks": ""
           }
          },
          "scene": {
           "xaxis": {
            "backgroundcolor": "#E5ECF6",
            "gridcolor": "white",
            "gridwidth": 2,
            "linecolor": "white",
            "showbackground": true,
            "ticks": "",
            "zerolinecolor": "white"
           },
           "yaxis": {
            "backgroundcolor": "#E5ECF6",
            "gridcolor": "white",
            "gridwidth": 2,
            "linecolor": "white",
            "showbackground": true,
            "ticks": "",
            "zerolinecolor": "white"
           },
           "zaxis": {
            "backgroundcolor": "#E5ECF6",
            "gridcolor": "white",
            "gridwidth": 2,
            "linecolor": "white",
            "showbackground": true,
            "ticks": "",
            "zerolinecolor": "white"
           }
          },
          "shapedefaults": {
           "line": {
            "color": "#2a3f5f"
           }
          },
          "ternary": {
           "aaxis": {
            "gridcolor": "white",
            "linecolor": "white",
            "ticks": ""
           },
           "baxis": {
            "gridcolor": "white",
            "linecolor": "white",
            "ticks": ""
           },
           "bgcolor": "#E5ECF6",
           "caxis": {
            "gridcolor": "white",
            "linecolor": "white",
            "ticks": ""
           }
          },
          "title": {
           "x": 0.05
          },
          "xaxis": {
           "automargin": true,
           "gridcolor": "white",
           "linecolor": "white",
           "ticks": "",
           "title": {
            "standoff": 15
           },
           "zerolinecolor": "white",
           "zerolinewidth": 2
          },
          "yaxis": {
           "automargin": true,
           "gridcolor": "white",
           "linecolor": "white",
           "ticks": "",
           "title": {
            "standoff": 15
           },
           "zerolinecolor": "white",
           "zerolinewidth": 2
          }
         }
        },
        "title": {
         "text": "Percent Repeat Customers by State"
        }
       }
      }
     },
     "metadata": {},
     "output_type": "display_data"
    }
   ],
   "source": [
    "maximum_color_percent = 20\n",
    "fig = px.choropleth(\n",
    "    state_reorder_df,\n",
    "    locationmode=\"USA-states\",\n",
    "    locations=\"state\",\n",
    "    color=\"reorder_rate\",\n",
    "    color_continuous_scale=\"Greens\",\n",
    "    range_color=(0, maximum_color_percent),\n",
    "    scope=\"usa\",\n",
    "    labels={\"reorder_rate\": \"Percent Repeat Customers by State\"},\n",
    ")\n",
    "fig.update_layout(\n",
    "    title_text=\"Percent Repeat Customers by State\",\n",
    "    geo_scope=\"usa\",\n",
    "    margin={\"r\": 20, \"t\": 80, \"l\": 0, \"b\": 30},\n",
    ")\n",
    "fig.show()"
   ]
  },
  {
   "cell_type": "markdown",
   "metadata": {},
   "source": [
    "In contrast to map with orders by state, there aren't any obvious trends in which states have a higher reorder rate. Perhaps this is because even when exluding states with fewer than 20 orders, a single additional repeat order would move the repeat rate by half a percent to a few percentage points depending on how many total orders received. So while New Jersey may seem like an outlier in that it has an 18% reorder rate, it may be a statistical anomoly because two extra customers randomly decided to reorder. \n",
    "\n",
    "Furthermore, because the scale is between 0 and .2, these small differences are amplified. If you adjust the variable 'maximum_color_percent' at the beginning of the visualization code to a higher number such as 1, it makes it look like there is little statistical difference between the values. It is hard to know which scale is appropriate to use because a few percent difference, is more than a 10% difference in reorder rates between states which is significant. \n",
    "\n",
    "Combining the effect of amplificiation the relatively small sample size for each state means we don't have statistically meaningful data to allow us to draw effective conclusions on state reorder rate from the data."
   ]
  },
  {
   "cell_type": "markdown",
   "metadata": {},
   "source": [
    "# Conclusion\n",
    "\n",
    "### Findings\n",
    "There are a few key insights from this project that are both interesting to consider from a sociological and business standpoint. The first is that the customer retention rate is relatively low at about 12% which is 249 of 2060 customers. We found repeat customers are just as valuable as new customers becuase they place similar sized orders on average, so it is worth trying to increase thisr rate. To do so, we identified a key strategy for targeted marketing based on repeat customer habits. We found that most reorders occur within a few months or at 1 and 2 year increments. There is also a higher number of repeat orders around graduation season and the holidays. An effective marketing strategy using this data that Andrew can implement going forwards is to email customers who opt into marketing at 1, 2, 11, and 24 increments months after their first order and during graduation and the holidays. This way Andrew could send targeting effective marketing and could avoid spamming customers. \n",
    "\n",
    "### Lessons\n",
    "An important lesson more broadly from the essay is considering framing visualization carefully and determining which findings are statistically significant. In the last section on repeat order rates by state, the scale we used between 0 and 20% which can have an amplification effect making findings look more significant then they are. While there are valid reasons to use a scale like this, it needs to be taken into consideration when determining the significance of results as we did to conlcude that in this case they weren't significant.\n",
    "\n",
    "### Ethics\n",
    "For the most part, this project creates no ethical concerns. However, it is important to notice that some sensitive data is used for the geographical analysis, such as states. While states per se are not someting that can identify a specific person, they can be used along with other data to do so. Furthermore, while we chose not to use the full address of people, it is also important to notice that the API does provide this data if requested. Therefore, there is a potential for misuse of this sensitive data.\n",
    "\n",
    "Another ethical consideration is in who to market to using these insights. While the customers email are among the data Andrew has access to, it isn't ethical or legal to send them marketing emails without their consent. In order to implement these findings, Andrew will set up a system to opt into emails incentivized by recieving a coupon. He will also make sure it is easy to unsubscribe and that it results in a permanent removal from the email list.\n",
    "\n",
    "### Challenges\n",
    "One of the most frustrating parts of the project was creating the interactive map graphs. This is because they were created using a library that neither of us have used before, and therefore knew nothing about. Furthermore, another challenging part of this project was obtaining the API data. API calls were new for both of us, and the specific syntax and error codes were difficult to understand at first. This is why we initially thought of using a separate library to write the API calls, but abandoned this idea to maintain the overall structure of the project simpler. \n",
    "\n",
    "### Assumptions and Future Improvements\n",
    "\n",
    "One assumption we made when analyzing repeat orders was that all customers only used a singular account to order. This assumption doesn't hold up in reality because sometimes customers forgete they already have an account or somehow lose access. This effect is likely minimal, but it would slightly decrease the repeat order rate.\n",
    "\n",
    "Another assumption we made when analyzing the goegraphic data was that the shipping address is in the same state that the order was placed from. This isn't always the case because of gifts to other states among other reasons. This slightly skews the, but is unlikely to change the larger trends.\n",
    "\n",
    "If we had more time, we believe it would be useful to dive deeper into the psychology of the customer, understanding exactly what elements drive a customer to reorder. We could analyze other demographics such as estimated age based on name or estimated income based on zip code. We could also look into if different products have a higher retention rate. It could also be very interesting to assess the success of different customer retention techniques outlined here or others, such as newsletters, promo codes, sales, bundles, or else. "
   ]
  }
 ],
 "metadata": {
  "kernelspec": {
   "display_name": "base",
   "language": "python",
   "name": "python3"
  },
  "language_info": {
   "codemirror_mode": {
    "name": "ipython",
    "version": 3
   },
   "file_extension": ".py",
   "mimetype": "text/x-python",
   "name": "python",
   "nbconvert_exporter": "python",
   "pygments_lexer": "ipython3",
   "version": "3.11.5"
  }
 },
 "nbformat": 4,
 "nbformat_minor": 2
}
