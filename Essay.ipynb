{
 "cells": [
  {
   "cell_type": "markdown",
   "metadata": {},
   "source": [
    "# Understanding Etsy Reorders\n",
    "\n",
    "Authors: Carlo Colizzi, Andrew Kurtz"
   ]
  },
  {
   "cell_type": "markdown",
   "metadata": {},
   "source": [
    "## Intro\n",
    "\n",
    "Andrew has been running a stationery and greeting card business on Etsy for the past 4 years.\n",
    "During this time, he was able to fulfill thousands of orders, and now would like to understand\n",
    "what pushes customers to order again, in an attempt to increase customer retention.\n",
    "\n",
    "We will try to do this by analyzing the data obtained through the Etsy API, looking specifically\n",
    "at how often customers reorder, when and the general characteristics of those orders (order size, etc...).\n",
    "\n",
    "Acquiring new customers is time-consuming and expensive. Therefore, figuring out how to what drives\n",
    "customer loyalty and improving that would be an easy path for growth. For example, if many customers\n",
    "reorder for specific occasions as gifts (graduation, Christmas, etc), then sending out targeted\n",
    "marketing to past customers around those events would be an efficient way to retain customers.\n",
    "\n",
    "To make sure the code runs correctly, run the cell below:"
   ]
  },
  {
   "cell_type": "code",
   "execution_count": null,
   "metadata": {},
   "outputs": [],
   "source": [
    "# IMPORT STATEMENTS HERE"
   ]
  },
  {
   "cell_type": "markdown",
   "metadata": {},
   "source": [
    "## Obtaining the Data\n",
    "\n",
    "A breakdown of how we obtained the data through the API"
   ]
  },
  {
   "cell_type": "markdown",
   "metadata": {},
   "source": [
    "## Analyzing the Data\n",
    "\n",
    "### Understanding the number of customers that reorder"
   ]
  },
  {
   "cell_type": "markdown",
   "metadata": {},
   "source": [
    "### Understanding the time between re-orders\n"
   ]
  },
  {
   "cell_type": "markdown",
   "metadata": {},
   "source": [
    "### Understanding the dates of reorders\n",
    "\n",
    "We noticed there was a peak around the 1 and 2 year intervals, \n",
    "which made us think about what could possibly cause this. \n",
    "One answer that came to mind fairly quickly was holidays and birthdays.\n",
    "We thus decided to look at the most common dates orders were placed at, \n",
    "trying to find any pattens."
   ]
  },
  {
   "cell_type": "markdown",
   "metadata": {},
   "source": [
    "### Geolocation"
   ]
  },
  {
   "cell_type": "markdown",
   "metadata": {},
   "source": [
    "## Interpreting the Data\n",
    "\n",
    "### What we found\n",
    "\n",
    "### What this means\n",
    "\n",
    "### How we're going to act on this"
   ]
  },
  {
   "cell_type": "markdown",
   "metadata": {},
   "source": [
    "## Concluding remarks\n",
    "\n",
    "### IDK\n",
    "\n",
    "### Assumptions and Future Improvements"
   ]
  }
 ],
 "metadata": {
  "language_info": {
   "name": "python"
  }
 },
 "nbformat": 4,
 "nbformat_minor": 2
}
