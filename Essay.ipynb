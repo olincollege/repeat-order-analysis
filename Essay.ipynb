{
 "cells": [
  {
   "cell_type": "markdown",
   "metadata": {},
   "source": [
    "# Understanding Etsy Reorders\n",
    "\n",
    "Authors: Carlo Colizzi, Andrew Kurtz"
   ]
  },
  {
   "cell_type": "markdown",
   "metadata": {},
   "source": [
    "# Introduction\n",
    "\n",
    "Andrew has been running a stationery and greeting card business on Etsy for the past 4 years.\n",
    "During this time, he was able to fulfill thousands of orders, and now would like to understand\n",
    "what pushes customers to order again, in an attempt to increase customer retention.\n",
    "\n",
    "We will try to do this by analyzing the order data obtained through the Etsy API, looking specifically\n",
    "at how often and when customers reorder, as well as the general characteristics of those orders (order size, etc...).\n",
    "\n",
    "Acquiring new customers is time-consuming and expensive. Therefore, figuring out how to what drives\n",
    "customer loyalty and improving that would be an easy path for growth. For example, if many customers\n",
    "reorder for specific occasions as gifts (graduation, Christmas, etc), then sending out targeted\n",
    "marketing to past customers around those events would be an efficient way to retain customers.\n",
    "\n",
    "To make sure the code runs correctly, run the cell below:"
   ]
  },
  {
   "cell_type": "code",
   "execution_count": 2,
   "metadata": {},
   "outputs": [],
   "source": [
    "%load_ext autoreload\n",
    "%autoreload 2\n",
    "%matplotlib inline\n",
    "from api_lib import get_all_orders, get_all_reviews, read_json, extract_data\n",
    "import matplotlib.pyplot as plt\n",
    "from collections import Counter\n",
    "import plotly.express as px\n",
    "import pandas as pd\n",
    "import statistics\n",
    "from datetime import datetime"
   ]
  },
  {
   "cell_type": "markdown",
   "metadata": {},
   "source": [
    "# Methodology\n",
    "## Obtaining the Data\n",
    "\n",
    "To access the data we requested access to the Etsy API to get an initial access key and credentials from Etsy, then went through the authentication steps to connect it to Andrew's Etsy shop to get updated keys that enable access the private order and review data from the shop.\n",
    "\n",
    "Using those keys we wrote a python library in the file `api_lib.py` to pull all of the orders and reviews and save them as JSONs. For each order, the API gives us all relavant details including user ID information, shipping detials, all the items in order, total value, and date/time placed. In our analysis only need a fraction of the data. These are the key data points we use from orders:\n",
    "\n",
    "- `buyer_user_id`: Integer thats a unique identifying id used to keep track of buyers to determine repeat customers\n",
    "- `create_timestamp`: Unix timestamp for when order was created\n",
    "- `state`: String with state name abbreviation from shipping address\n",
    "- `subtotal`: Dictionery with keys:\n",
    "    - `amount`: Order subtotal amount as int\n",
    "    - `divisor`: Int representing what value to divide `amount` by to get dollar amount\n",
    "\n",
    "From the reviews dataset, we only accessed the `buyer_user_id` value which represents the same thing as `buyer_user_id` in the order dataset.\n",
    "\n",
    "To pull the data and save it locally, we ran the cell below with two functions from our api_lib.py library. We only needed to run this at the beginning and after a few days has passed to update the data with the latest orders. By saving it locally, we can mitigate calls to the API."
   ]
  },
  {
   "cell_type": "code",
   "execution_count": 3,
   "metadata": {},
   "outputs": [],
   "source": [
    "KEY_PATH = \"keys.json\"\n",
    "ORDERS_PATH = \"orders.json\"\n",
    "REVIEWS_PATH = \"reviews.json\"\n",
    "SHOP_ID = 23574688\n",
    "\n",
    "get_all_orders(KEY_PATH, ORDERS_PATH, SHOP_ID)\n",
    "get_all_reviews(KEY_PATH, REVIEWS_PATH, SHOP_ID)"
   ]
  },
  {
   "cell_type": "markdown",
   "metadata": {},
   "source": [
    "This cell is used to read the locally stored order and review data, storing them in their respective variables as lists of dictionaries."
   ]
  },
  {
   "cell_type": "code",
   "execution_count": 4,
   "metadata": {},
   "outputs": [],
   "source": [
    "orders = read_json('orders.json')\n",
    "reviews = read_json('reviews.json')"
   ]
  },
  {
   "cell_type": "markdown",
   "metadata": {},
   "source": [
    "To pull the specific data points mentioned above, we wrote a function called 'extract_data' which extracts the data from all orders stored in parameter_1 and optionally parameter_2 and returns a list. This function will be used throughout the essay."
   ]
  },
  {
   "cell_type": "markdown",
   "metadata": {},
   "source": [
    "## Processeing the data\n",
    "### Number of customers who reorder\n",
    "In the first step of our analysis, we decided to understand the split between one-off customers and returning customers. We did this by taking all customer ids from all orders, stored in `buyer_user_id`, and using a `Counter()` function to check which ones appear multiple times. You can notice one customer id has been removed. This is because that account in particular was an account used to place test orders, and therefore would skew the data. Once we knew how many orders were repeat orders, and how many were one-off, we were able to represent this on a pie chart."
   ]
  },
  {
   "cell_type": "code",
   "execution_count": 5,
   "metadata": {},
   "outputs": [],
   "source": [
    "buyer_user_id = extract_data(orders, \"buyer_user_id\")\n",
    "\n",
    "num_orders_by_customers = list(Counter(buyer_user_id).values())\n",
    "\n",
    "num_orders_by_customers.remove(37)\n",
    "\n",
    "orders_per_customer = Counter(num_orders_by_customers)\n",
    "\n",
    "num_reorders = orders_per_customer.keys()\n",
    "num_customers = orders_per_customer.values()"
   ]
  },
  {
   "cell_type": "markdown",
   "metadata": {},
   "source": [
    "### Order size"
   ]
  },
  {
   "cell_type": "code",
   "execution_count": 6,
   "metadata": {},
   "outputs": [],
   "source": [
    "id_subtotal_dict = extract_data(orders, 'buyer_user_id', 'subtotal')\n",
    "num_orders_by_id = Counter(buyer_user_id)\n",
    "\n",
    "id_subtotal = []\n",
    "for customer in id_subtotal_dict:\n",
    "    id_subtotal.append([customer[0], customer[1]['amount']/customer[1]['divisor']])\n",
    "\n",
    "single_order_customers = []\n",
    "multiple_order_customers = []\n",
    "\n",
    "for customer in id_subtotal:\n",
    "    if num_orders_by_id[customer[0]] > 1:\n",
    "        multiple_order_customers.append(customer[1])\n",
    "    else:\n",
    "        single_order_customers.append(customer[1])\n",
    "\n",
    "single_order_value = statistics.mean(single_order_customers)\n",
    "multiple_order_value = statistics.mean(multiple_order_customers)"
   ]
  },
  {
   "cell_type": "markdown",
   "metadata": {},
   "source": [
    "### Time between reorders"
   ]
  },
  {
   "cell_type": "code",
   "execution_count": 7,
   "metadata": {},
   "outputs": [],
   "source": [
    "order_time = extract_data(orders, 'create_timestamp')\n",
    "\n",
    "for i in range(len(order_time)):\n",
    "    order_time[i] = datetime.fromtimestamp(order_time[i])\n",
    "\n",
    "orders_by_customer = {}\n",
    "\n",
    "for customer_id, order_time in zip(buyer_user_id, order_time):\n",
    "    if customer_id not in orders_by_customer:\n",
    "        orders_by_customer[customer_id] = []\n",
    "    orders_by_customer[customer_id].append(order_time)\n",
    "\n",
    "all_time_diffs = []\n",
    "\n",
    "for times in orders_by_customer.values():\n",
    "    times.sort() \n",
    "    if len(times) > 1:\n",
    "        all_time_diffs.extend([times[i] - times[i-1] for i in range(1, len(times))])\n",
    "\n",
    "years = [t.days / 365.25 for t in all_time_diffs]"
   ]
  },
  {
   "cell_type": "markdown",
   "metadata": {},
   "source": [
    "### Dates of Reorders"
   ]
  },
  {
   "cell_type": "code",
   "execution_count": 8,
   "metadata": {},
   "outputs": [],
   "source": [
    "mult_cust_times = {}\n",
    "single_cust_times = {}\n",
    "\n",
    "for id, dates in orders_by_customer.items():\n",
    "    if len(dates) > 1:\n",
    "        mult_cust_times[id] = dates\n",
    "    else:\n",
    "        single_cust_times[id] = dates\n",
    "\n",
    "single_by_month = [0, 0, 0, 0, 0, 0, 0, 0, 0, 0, 0, 0]\n",
    "multiple_by_month = [0, 0, 0, 0, 0, 0, 0, 0, 0, 0, 0, 0]\n",
    "\n",
    "for id, dates in mult_cust_times.items():\n",
    "    for datetime in dates:\n",
    "        month = datetime.month\n",
    "        multiple_by_month[month - 1] += 1\n",
    "\n",
    "for id, dates in single_cust_times.items():\n",
    "    single_by_month[dates[0].month - 1] += 1"
   ]
  },
  {
   "cell_type": "markdown",
   "metadata": {},
   "source": [
    "### Number of orders by state"
   ]
  },
  {
   "cell_type": "code",
   "execution_count": 9,
   "metadata": {},
   "outputs": [],
   "source": [
    "state = extract_data(orders, 'state')\n",
    "\n",
    "state_list = Counter(state)\n",
    "state_list = pd.DataFrame.from_dict(state_list, orient='index').reset_index()\n",
    "state_list = state_list.rename(columns={\"index\":\"state\", 0:\"number_of_orders\"})"
   ]
  },
  {
   "cell_type": "markdown",
   "metadata": {},
   "source": [
    "### Repeat order rate by state"
   ]
  },
  {
   "cell_type": "code",
   "execution_count": 10,
   "metadata": {},
   "outputs": [],
   "source": [
    "id_state = extract_data(orders, 'buyer_user_id', 'state')\n",
    "state = extract_data(orders, 'state')\n",
    "\n",
    "all_states_list = list(Counter(state).keys())\n",
    "states_dict = {key: [] for key in all_states_list}\n",
    "\n",
    "for customer in id_state:\n",
    "    states_dict[customer[1]].append(customer[0])\n",
    "\n",
    "percent_reorder_by_state = {}\n",
    "for state, ids in states_dict.items():\n",
    "    num_orders = Counter(Counter(states_dict[state]).values())\n",
    "    one_order = 0\n",
    "    multiple_orders = 0\n",
    "    for number_of_orders, number_of_customers in num_orders.items():\n",
    "        if number_of_orders == 1:\n",
    "            one_order += number_of_customers\n",
    "        if number_of_orders > 1:\n",
    "            multiple_orders += number_of_customers\n",
    "    if one_order + multiple_orders > 20:\n",
    "        percent_reorder_by_state[state] = multiple_orders / (one_order + multiple_orders)\n",
    "\n",
    "state_reorder_df = pd.DataFrame.from_dict(percent_reorder_by_state, orient='index').reset_index()\n",
    "state_reorder_df = state_reorder_df.rename(columns={\"index\":\"state\", 0:\"reorder_rate\"})"
   ]
  },
  {
   "cell_type": "markdown",
   "metadata": {},
   "source": [
    "### Reviews"
   ]
  },
  {
   "cell_type": "code",
   "execution_count": 11,
   "metadata": {},
   "outputs": [],
   "source": [
    "review_ids = extract_data(reviews, 'buyer_user_id')\n",
    "num_orders_by_id = Counter(buyer_user_id)\n",
    "num_reviews_by_id = Counter(review_ids)\n",
    "left_review = list(num_reviews_by_id.keys())\n",
    "\n",
    "count_reorders = 0\n",
    "for id in left_review:\n",
    "    if num_orders_by_id[id] > 1:\n",
    "        count_reorders+=1\n",
    "\n",
    "repeat_percent_yes_review = count_reorders/len(left_review)\n",
    "\n",
    "count_reorders = 0\n",
    "for id in list(num_orders_by_id.keys()):\n",
    "    if num_orders_by_id[id] > 1:\n",
    "        count_reorders+=1\n",
    "\n",
    "repeat_percent_overall = count_reorders/len(list(num_orders_by_id.keys()))\n",
    "\n",
    "count_reorders = 0\n",
    "count_not_review = 0\n",
    "\n",
    "for id in list(num_orders_by_id.keys()):\n",
    "    if id not in left_review:\n",
    "        count_not_review += 1\n",
    "        if num_orders_by_id[id] > 1:\n",
    "            count_reorders+=1\n",
    "\n",
    "repeat_percent_no_review = count_reorders/count_not_review"
   ]
  },
  {
   "cell_type": "markdown",
   "metadata": {},
   "source": [
    "# Results\n",
    "\n",
    "## Visualizing Data\n",
    "\n",
    "***\n",
    "Answer these questions for each visualization \n",
    "\n",
    "What summaries or visualizations did you create?\n",
    "\n",
    "What are the interesting and/or important parts of these summaries or visualizations?\n",
    "\n",
    "How do these results answer your questions or tell your story?\n",
    "\n",
    "***\n",
    "\n",
    "### Understanding the number of customers that reorder\n",
    "For our first visualization we wanted to see the distribution of how the number of orders customers place to gain a general understanding of the repeat order rate. This will also help give context to the rest of the essay of how many customers are in the category of repeat customers.\n"
   ]
  },
  {
   "cell_type": "code",
   "execution_count": 12,
   "metadata": {},
   "outputs": [
    {
     "data": {
      "image/png": "[encoded data removed]",
      "text/plain": [
       "<Figure size 640x480 with 1 Axes>"
      ]
     },
     "metadata": {},
     "output_type": "display_data"
    }
   ],
   "source": [
    "labels = [str(item) for item in list(num_customers)]\n",
    "\n",
    "fig, ax = plt.subplots()\n",
    "bars = ax.bar(num_reorders, num_customers, label=labels)\n",
    "\n",
    "# Adding labels on top of each bar\n",
    "for bar in bars:\n",
    "    yval = bar.get_height()\n",
    "    plt.text(bar.get_x() + bar.get_width()/2, yval + 1, yval, ha='center', va='bottom')\n",
    "\n",
    "plt.xlabel(\"Number of orders a customer places\")\n",
    "plt.ylabel(\"Number of customers\")\n",
    "plt.title(\"Distribution of Number of Orders Placed\")\n",
    "\n",
    "plt.show()"
   ]
  },
  {
   "cell_type": "markdown",
   "metadata": {},
   "source": [
    "This visualization shows that the vast majority of customers are single order, a few place two orders, fewer place three, and so on. There are many factors from a business and branding perspective that could account for the low repeat customer rate. The first is that customers are unsatisfied with the product, but that is unlikely because 590 of the 600 reviews are five stars. Another potential factor is that customers aren't attached to my brand specifically, but rather the platform Etsy as a whole. This would mean that when they want to order more stationery, they won't go to Andrew's Etsy shop specifically, but rather search the whole platform and ultimetely order from a different shop.\n",
    "\n",
    "While the majority of customers don't repeat, there is a group of loyal customers who repeat order many times. This is seen in the data by 43 customers who order 3 times, 12 who order 4 times, 9 who order 5 times, and a few who have ordered even more than that. This suggests that brand loyalty does exist, but at low rates and through increased branding it is possible to grow these numbers more."
   ]
  },
  {
   "cell_type": "markdown",
   "metadata": {},
   "source": [
    "### Order Size\n",
    "\n",
    "With a general understanding of how many customers reorder, we wanted to better understand if there was a difference in size of customers who reorder vs not. For example, maybe repeat customers tend to place more smaller orders. These results could influence the value of trying to attract more repeat customers because if they place small orders on average our time may be more effectively spent attracting new higher value customers."
   ]
  },
  {
   "cell_type": "code",
   "execution_count": 19,
   "metadata": {},
   "outputs": [
    {
     "data": {
      "image/png": "[encoded data removed]",
      "text/plain": [
       "<Figure size 640x480 with 1 Axes>"
      ]
     },
     "metadata": {},
     "output_type": "display_data"
    }
   ],
   "source": [
    "fig, ax = plt.subplots()\n",
    "\n",
    "labels = [\"Single Order\", \"Multiple Order\"]\n",
    "amounts = [single_order_value, multiple_order_value]\n",
    "\n",
    "bars = ax.bar(range(len(labels)), amounts, align='center')\n",
    "ax.set_xticks(range(len(labels)), labels=labels)\n",
    "ax.bar_label(bars, padding=3, label_type='edge', fmt='$%.2f')\n",
    "ax.set_ylabel('Average Order Size ($)')\n",
    "ax.set_title('Average Order Size for Single and Multiple Order Customers')\n",
    "ax.set_ylim(0, 42)\n",
    "\n",
    "plt.show()"
   ]
  },
  {
   "cell_type": "markdown",
   "metadata": {},
   "source": [
    "From this plot we can see that multiple order customers place marginally higher orders on average, but it isn't statistically significant. This is interesting because it disproves the theory that Andrew has seen anecdotally that repeat customers tend to place smaller orders. This means that it is worth trying to increase the repeat order rate becuase they are just as valuable as one offs. "
   ]
  },
  {
   "cell_type": "markdown",
   "metadata": {},
   "source": [
    "### Time between re-orders\n",
    "\n",
    "Another characteristic of repeat customers that we wanted to observe was the time difference between repeat orders. Do people typically wait to run out or reorder or reorder right away? Finding this out could help us inform the decision on how long after they order to market to past customers. We decided to visualize this as a Violin plot so that we could see the trends of the density of repeat orders with each spacing in a continuous manner without needing to choose bins for a histogram."
   ]
  },
  {
   "cell_type": "code",
   "execution_count": 23,
   "metadata": {},
   "outputs": [
    {
     "data": {
      "image/png": "[encoded data removed]",
      "text/plain": [
       "<Figure size 640x480 with 1 Axes>"
      ]
     },
     "metadata": {},
     "output_type": "display_data"
    }
   ],
   "source": [
    "plt.violinplot(years, showmeans=False, showmedians=False,showextrema=False)\n",
    "plt.ylabel('Years')\n",
    "plt.xlabel('Density of Orders Placed')\n",
    "plt.title('Time Between Repeat Orders')\n",
    "plt.xticks([])\n",
    "plt.show()"
   ]
  },
  {
   "cell_type": "markdown",
   "metadata": {},
   "source": [
    "The plot shows that most of the repeat orders take place within a few months of the previous order, but there is also a bump around 9-12 months and two years. This suggests that the most effective marketing would be done at those increments after the first order is placed. This way it wouldn't be necessary to spam a customer because we have the data for precision targeted marketing."
   ]
  },
  {
   "cell_type": "markdown",
   "metadata": {},
   "source": [
    "### Understanding the dates of reorders\n",
    "\n",
    "Since we noticed a bump at around 1 and 2 years we wondered what could possibly cause this. One answer that came to mind fairly quickly was holidays and birthdays. To unpack the data further to answer this question we thus decided to look at the distribution of orders from single order and repeat order customers based on time of year. This way we could see trends around holidays."
   ]
  },
  {
   "cell_type": "code",
   "execution_count": 15,
   "metadata": {},
   "outputs": [
    {
     "data": {
      "image/png": "[encoded data removed]",
      "text/plain": [
       "<Figure size 640x480 with 1 Axes>"
      ]
     },
     "metadata": {},
     "output_type": "display_data"
    }
   ],
   "source": [
    "months_abbreviations = [\n",
    "    \"Jan\", \"Feb\", \"Mar\", \n",
    "    \"Apr\", \"May\", \"Jun\", \n",
    "    \"Jul\", \"Aug\", \"Sep\", \n",
    "    \"Oct\", \"Nov\", \"Dec\"\n",
    "]\n",
    "\n",
    "fig, ax = plt.subplots()\n",
    "bottom = 12\n",
    "\n",
    "width = .75\n",
    "\n",
    "for index in range(12):\n",
    "    p = ax.bar(months_abbreviations[index], single_by_month[index], width, bottom=0, color='blue')\n",
    "    q = ax.bar(months_abbreviations[index], multiple_by_month[index], width, bottom=single_by_month[index], color='red')\n",
    "\n",
    "    ax.bar_label(p, label_type='center')\n",
    "    ax.bar_label(q, label_type='center')\n",
    "\n",
    "ax.set_title('Orders by Repeat vs Single Order Customers v. Month')\n",
    "ax.legend(['Orders by single order customers', 'Orders by repeat customers'])\n",
    "\n",
    "plt.show()"
   ]
  },
  {
   "cell_type": "markdown",
   "metadata": {},
   "source": [
    "Looking at the data there are a few key trends to take stock of. The first is that repeat customers tend to place the most orders in May and June and November and December. This confirms our hypothesis that customers place the most repeat orders around holidays/occasions. In May/June one of the main reasons to order personalized stationery is graduation gifts/thank you notes and November/December is of course Christmas gifts. This can help further inform marketing to suggest increase efforts in graduation season and the holidays.\n",
    "\n",
    "Another trend to note is that there is a significant number of single order customers that order around the holidays. Combining this finding with the finding of the previous graph that many repeat customers order within a few months after their previous order means that an effective strategy to turn these buyers into repeat customers would be increasing marketing targeting these first time customers in January, February, and March."
   ]
  },
  {
   "cell_type": "markdown",
   "metadata": {},
   "source": [
    "### Orders per state\n",
    "\n",
    "Analyzing the time orders occurred at made us curious about exploring where these orders were occurring and if certain parts of the country had a higher repeat order rate. Using the data pulled using the Etsy API, we plotted the shipping addresses to see what countries were most common. However, we quickly realised all but 3 orders occurred within the USA. Thus, we decided to narrow down our search, to plot what states orders came from. \n",
    "\n",
    "We first started by plotting the number of orders shipped to each state to get a broad geographic understanding before focusing on repeat customers."
   ]
  },
  {
   "cell_type": "code",
   "execution_count": 16,
   "metadata": {},
   "outputs": [
    {
     "data": {
      "application/vnd.plotly.v1+json": {
       "config": {
        "plotlyServerURL": "https://plot.ly"
       },
       "data": [
        {
         "coloraxis": "coloraxis",
         "geo": "geo",
         "hovertemplate": "state=%{location}<br>Number of Orders=%{z}<extra></extra>",
         "locationmode": "USA-states",
         "locations": [
          "VA",
          "TX",
          "MA",
          "SC",
          "OH",
          "GA",
          "NC",
          "NJ",
          "LA",
          "UT",
          "AL",
          "CA",
          "MO",
          "IA",
          "CT",
          "FL",
          "IN",
          "NY",
          "DC",
          "TN",
          "KY",
          "AR",
          "PA",
          "CO",
          "ID",
          "MI",
          "KS",
          "MD",
          "OK",
          "MS",
          "AZ",
          "RI",
          "NV",
          "IL",
          "ME",
          "MN",
          "WA",
          "WI",
          "NH",
          "NE",
          "VT",
          "DE",
          "WV",
          "BC",
          "OR",
          "ON",
          "MT",
          "NM",
          "WY",
          "HI",
          "SD"
         ],
         "name": "",
         "type": "choropleth",
         "z": [
          157,
          255,
          86,
          101,
          66,
          124,
          163,
          64,
          38,
          9,
          98,
          123,
          44,
          11,
          61,
          104,
          29,
          106,
          20,
          78,
          32,
          21,
          63,
          140,
          5,
          27,
          26,
          63,
          25,
          44,
          14,
          6,
          7,
          99,
          30,
          21,
          13,
          14,
          12,
          10,
          4,
          14,
          3,
          2,
          12,
          1,
          5,
          1,
          1,
          1,
          1
         ]
        }
       ],
       "layout": {
        "coloraxis": {
         "cmax": 150,
         "cmin": 0,
         "colorbar": {
          "title": {
           "text": "Number of Orders"
          }
         },
         "colorscale": [
          [
           0,
           "rgb(247,252,245)"
          ],
          [
           0.125,
           "rgb(229,245,224)"
          ],
          [
           0.25,
           "rgb(199,233,192)"
          ],
          [
           0.375,
           "rgb(161,217,155)"
          ],
          [
           0.5,
           "rgb(116,196,118)"
          ],
          [
           0.625,
           "rgb(65,171,93)"
          ],
          [
           0.75,
           "rgb(35,139,69)"
          ],
          [
           0.875,
           "rgb(0,109,44)"
          ],
          [
           1,
           "rgb(0,68,27)"
          ]
         ]
        },
        "geo": {
         "center": {},
         "domain": {
          "x": [
           0,
           1
          ],
          "y": [
           0,
           1
          ]
         },
         "scope": "usa"
        },
        "legend": {
         "tracegroupgap": 0
        },
        "margin": {
         "b": 30,
         "l": 0,
         "r": 20,
         "t": 80
        },
        "template": {
         "data": {
          "bar": [
           {
            "error_x": {
             "color": "#2a3f5f"
            },
            "error_y": {
             "color": "#2a3f5f"
            },
            "marker": {
             "line": {
              "color": "#E5ECF6",
              "width": 0.5
             },
             "pattern": {
              "fillmode": "overlay",
              "size": 10,
              "solidity": 0.2
             }
            },
            "type": "bar"
           }
          ],
          "barpolar": [
           {
            "marker": {
             "line": {
              "color": "#E5ECF6",
              "width": 0.5
             },
             "pattern": {
              "fillmode": "overlay",
              "size": 10,
              "solidity": 0.2
             }
            },
            "type": "barpolar"
           }
          ],
          "carpet": [
           {
            "aaxis": {
             "endlinecolor": "#2a3f5f",
             "gridcolor": "white",
             "linecolor": "white",
             "minorgridcolor": "white",
             "startlinecolor": "#2a3f5f"
            },
            "baxis": {
             "endlinecolor": "#2a3f5f",
             "gridcolor": "white",
             "linecolor": "white",
             "minorgridcolor": "white",
             "startlinecolor": "#2a3f5f"
            },
            "type": "carpet"
           }
          ],
          "choropleth": [
           {
            "colorbar": {
             "outlinewidth": 0,
             "ticks": ""
            },
            "type": "choropleth"
           }
          ],
          "contour": [
           {
            "colorbar": {
             "outlinewidth": 0,
             "ticks": ""
            },
            "colorscale": [
             [
              0,
              "#0d0887"
             ],
             [
              0.1111111111111111,
              "#46039f"
             ],
             [
              0.2222222222222222,
              "#7201a8"
             ],
             [
              0.3333333333333333,
              "#9c179e"
             ],
             [
              0.4444444444444444,
              "#bd3786"
             ],
             [
              0.5555555555555556,
              "#d8576b"
             ],
             [
              0.6666666666666666,
              "#ed7953"
             ],
             [
              0.7777777777777778,
              "#fb9f3a"
             ],
             [
              0.8888888888888888,
              "#fdca26"
             ],
             [
              1,
              "#f0f921"
             ]
            ],
            "type": "contour"
           }
          ],
          "contourcarpet": [
           {
            "colorbar": {
             "outlinewidth": 0,
             "ticks": ""
            },
            "type": "contourcarpet"
           }
          ],
          "heatmap": [
           {
            "colorbar": {
             "outlinewidth": 0,
             "ticks": ""
            },
            "colorscale": [
             [
              0,
              "#0d0887"
             ],
             [
              0.1111111111111111,
              "#46039f"
             ],
             [
              0.2222222222222222,
              "#7201a8"
             ],
             [
              0.3333333333333333,
              "#9c179e"
             ],
             [
              0.4444444444444444,
              "#bd3786"
             ],
             [
              0.5555555555555556,
              "#d8576b"
             ],
             [
              0.6666666666666666,
              "#ed7953"
             ],
             [
              0.7777777777777778,
              "#fb9f3a"
             ],
             [
              0.8888888888888888,
              "#fdca26"
             ],
             [
              1,
              "#f0f921"
             ]
            ],
            "type": "heatmap"
           }
          ],
          "heatmapgl": [
           {
            "colorbar": {
             "outlinewidth": 0,
             "ticks": ""
            },
            "colorscale": [
             [
              0,
              "#0d0887"
             ],
             [
              0.1111111111111111,
              "#46039f"
             ],
             [
              0.2222222222222222,
              "#7201a8"
             ],
             [
              0.3333333333333333,
              "#9c179e"
             ],
             [
              0.4444444444444444,
              "#bd3786"
             ],
             [
              0.5555555555555556,
              "#d8576b"
             ],
             [
              0.6666666666666666,
              "#ed7953"
             ],
             [
              0.7777777777777778,
              "#fb9f3a"
             ],
             [
              0.8888888888888888,
              "#fdca26"
             ],
             [
              1,
              "#f0f921"
             ]
            ],
            "type": "heatmapgl"
           }
          ],
          "histogram": [
           {
            "marker": {
             "pattern": {
              "fillmode": "overlay",
              "size": 10,
              "solidity": 0.2
             }
            },
            "type": "histogram"
           }
          ],
          "histogram2d": [
           {
            "colorbar": {
             "outlinewidth": 0,
             "ticks": ""
            },
            "colorscale": [
             [
              0,
              "#0d0887"
             ],
             [
              0.1111111111111111,
              "#46039f"
             ],
             [
              0.2222222222222222,
              "#7201a8"
             ],
             [
              0.3333333333333333,
              "#9c179e"
             ],
             [
              0.4444444444444444,
              "#bd3786"
             ],
             [
              0.5555555555555556,
              "#d8576b"
             ],
             [
              0.6666666666666666,
              "#ed7953"
             ],
             [
              0.7777777777777778,
              "#fb9f3a"
             ],
             [
              0.8888888888888888,
              "#fdca26"
             ],
             [
              1,
              "#f0f921"
             ]
            ],
            "type": "histogram2d"
           }
          ],
          "histogram2dcontour": [
           {
            "colorbar": {
             "outlinewidth": 0,
             "ticks": ""
            },
            "colorscale": [
             [
              0,
              "#0d0887"
             ],
             [
              0.1111111111111111,
              "#46039f"
             ],
             [
              0.2222222222222222,
              "#7201a8"
             ],
             [
              0.3333333333333333,
              "#9c179e"
             ],
             [
              0.4444444444444444,
              "#bd3786"
             ],
             [
              0.5555555555555556,
              "#d8576b"
             ],
             [
              0.6666666666666666,
              "#ed7953"
             ],
             [
              0.7777777777777778,
              "#fb9f3a"
             ],
             [
              0.8888888888888888,
              "#fdca26"
             ],
             [
              1,
              "#f0f921"
             ]
            ],
            "type": "histogram2dcontour"
           }
          ],
          "mesh3d": [
           {
            "colorbar": {
             "outlinewidth": 0,
             "ticks": ""
            },
            "type": "mesh3d"
           }
          ],
          "parcoords": [
           {
            "line": {
             "colorbar": {
              "outlinewidth": 0,
              "ticks": ""
             }
            },
            "type": "parcoords"
           }
          ],
          "pie": [
           {
            "automargin": true,
            "type": "pie"
           }
          ],
          "scatter": [
           {
            "fillpattern": {
             "fillmode": "overlay",
             "size": 10,
             "solidity": 0.2
            },
            "type": "scatter"
           }
          ],
          "scatter3d": [
           {
            "line": {
             "colorbar": {
              "outlinewidth": 0,
              "ticks": ""
             }
            },
            "marker": {
             "colorbar": {
              "outlinewidth": 0,
              "ticks": ""
             }
            },
            "type": "scatter3d"
           }
          ],
          "scattercarpet": [
           {
            "marker": {
             "colorbar": {
              "outlinewidth": 0,
              "ticks": ""
             }
            },
            "type": "scattercarpet"
           }
          ],
          "scattergeo": [
           {
            "marker": {
             "colorbar": {
              "outlinewidth": 0,
              "ticks": ""
             }
            },
            "type": "scattergeo"
           }
          ],
          "scattergl": [
           {
            "marker": {
             "colorbar": {
              "outlinewidth": 0,
              "ticks": ""
             }
            },
            "type": "scattergl"
           }
          ],
          "scattermapbox": [
           {
            "marker": {
             "colorbar": {
              "outlinewidth": 0,
              "ticks": ""
             }
            },
            "type": "scattermapbox"
           }
          ],
          "scatterpolar": [
           {
            "marker": {
             "colorbar": {
              "outlinewidth": 0,
              "ticks": ""
             }
            },
            "type": "scatterpolar"
           }
          ],
          "scatterpolargl": [
           {
            "marker": {
             "colorbar": {
              "outlinewidth": 0,
              "ticks": ""
             }
            },
            "type": "scatterpolargl"
           }
          ],
          "scatterternary": [
           {
            "marker": {
             "colorbar": {
              "outlinewidth": 0,
              "ticks": ""
             }
            },
            "type": "scatterternary"
           }
          ],
          "surface": [
           {
            "colorbar": {
             "outlinewidth": 0,
             "ticks": ""
            },
            "colorscale": [
             [
              0,
              "#0d0887"
             ],
             [
              0.1111111111111111,
              "#46039f"
             ],
             [
              0.2222222222222222,
              "#7201a8"
             ],
             [
              0.3333333333333333,
              "#9c179e"
             ],
             [
              0.4444444444444444,
              "#bd3786"
             ],
             [
              0.5555555555555556,
              "#d8576b"
             ],
             [
              0.6666666666666666,
              "#ed7953"
             ],
             [
              0.7777777777777778,
              "#fb9f3a"
             ],
             [
              0.8888888888888888,
              "#fdca26"
             ],
             [
              1,
              "#f0f921"
             ]
            ],
            "type": "surface"
           }
          ],
          "table": [
           {
            "cells": {
             "fill": {
              "color": "#EBF0F8"
             },
             "line": {
              "color": "white"
             }
            },
            "header": {
             "fill": {
              "color": "#C8D4E3"
             },
             "line": {
              "color": "white"
             }
            },
            "type": "table"
           }
          ]
         },
         "layout": {
          "annotationdefaults": {
           "arrowcolor": "#2a3f5f",
           "arrowhead": 0,
           "arrowwidth": 1
          },
          "autotypenumbers": "strict",
          "coloraxis": {
           "colorbar": {
            "outlinewidth": 0,
            "ticks": ""
           }
          },
          "colorscale": {
           "diverging": [
            [
             0,
             "#8e0152"
            ],
            [
             0.1,
             "#c51b7d"
            ],
            [
             0.2,
             "#de77ae"
            ],
            [
             0.3,
             "#f1b6da"
            ],
            [
             0.4,
             "#fde0ef"
            ],
            [
             0.5,
             "#f7f7f7"
            ],
            [
             0.6,
             "#e6f5d0"
            ],
            [
             0.7,
             "#b8e186"
            ],
            [
             0.8,
             "#7fbc41"
            ],
            [
             0.9,
             "#4d9221"
            ],
            [
             1,
             "#276419"
            ]
           ],
           "sequential": [
            [
             0,
             "#0d0887"
            ],
            [
             0.1111111111111111,
             "#46039f"
            ],
            [
             0.2222222222222222,
             "#7201a8"
            ],
            [
             0.3333333333333333,
             "#9c179e"
            ],
            [
             0.4444444444444444,
             "#bd3786"
            ],
            [
             0.5555555555555556,
             "#d8576b"
            ],
            [
             0.6666666666666666,
             "#ed7953"
            ],
            [
             0.7777777777777778,
             "#fb9f3a"
            ],
            [
             0.8888888888888888,
             "#fdca26"
            ],
            [
             1,
             "#f0f921"
            ]
           ],
           "sequentialminus": [
            [
             0,
             "#0d0887"
            ],
            [
             0.1111111111111111,
             "#46039f"
            ],
            [
             0.2222222222222222,
             "#7201a8"
            ],
            [
             0.3333333333333333,
             "#9c179e"
            ],
            [
             0.4444444444444444,
             "#bd3786"
            ],
            [
             0.5555555555555556,
             "#d8576b"
            ],
            [
             0.6666666666666666,
             "#ed7953"
            ],
            [
             0.7777777777777778,
             "#fb9f3a"
            ],
            [
             0.8888888888888888,
             "#fdca26"
            ],
            [
             1,
             "#f0f921"
            ]
           ]
          },
          "colorway": [
           "#636efa",
           "#EF553B",
           "#00cc96",
           "#ab63fa",
           "#FFA15A",
           "#19d3f3",
           "#FF6692",
           "#B6E880",
           "#FF97FF",
           "#FECB52"
          ],
          "font": {
           "color": "#2a3f5f"
          },
          "geo": {
           "bgcolor": "white",
           "lakecolor": "white",
           "landcolor": "#E5ECF6",
           "showlakes": true,
           "showland": true,
           "subunitcolor": "white"
          },
          "hoverlabel": {
           "align": "left"
          },
          "hovermode": "closest",
          "mapbox": {
           "style": "light"
          },
          "paper_bgcolor": "white",
          "plot_bgcolor": "#E5ECF6",
          "polar": {
           "angularaxis": {
            "gridcolor": "white",
            "linecolor": "white",
            "ticks": ""
           },
           "bgcolor": "#E5ECF6",
           "radialaxis": {
            "gridcolor": "white",
            "linecolor": "white",
            "ticks": ""
           }
          },
          "scene": {
           "xaxis": {
            "backgroundcolor": "#E5ECF6",
            "gridcolor": "white",
            "gridwidth": 2,
            "linecolor": "white",
            "showbackground": true,
            "ticks": "",
            "zerolinecolor": "white"
           },
           "yaxis": {
            "backgroundcolor": "#E5ECF6",
            "gridcolor": "white",
            "gridwidth": 2,
            "linecolor": "white",
            "showbackground": true,
            "ticks": "",
            "zerolinecolor": "white"
           },
           "zaxis": {
            "backgroundcolor": "#E5ECF6",
            "gridcolor": "white",
            "gridwidth": 2,
            "linecolor": "white",
            "showbackground": true,
            "ticks": "",
            "zerolinecolor": "white"
           }
          },
          "shapedefaults": {
           "line": {
            "color": "#2a3f5f"
           }
          },
          "ternary": {
           "aaxis": {
            "gridcolor": "white",
            "linecolor": "white",
            "ticks": ""
           },
           "baxis": {
            "gridcolor": "white",
            "linecolor": "white",
            "ticks": ""
           },
           "bgcolor": "#E5ECF6",
           "caxis": {
            "gridcolor": "white",
            "linecolor": "white",
            "ticks": ""
           }
          },
          "title": {
           "x": 0.05
          },
          "xaxis": {
           "automargin": true,
           "gridcolor": "white",
           "linecolor": "white",
           "ticks": "",
           "title": {
            "standoff": 15
           },
           "zerolinecolor": "white",
           "zerolinewidth": 2
          },
          "yaxis": {
           "automargin": true,
           "gridcolor": "white",
           "linecolor": "white",
           "ticks": "",
           "title": {
            "standoff": 15
           },
           "zerolinecolor": "white",
           "zerolinewidth": 2
          }
         }
        },
        "title": {
         "text": "Etsy Orders by State"
        }
       }
      }
     },
     "metadata": {},
     "output_type": "display_data"
    }
   ],
   "source": [
    "fig = px.choropleth(state_list, locationmode = 'USA-states', locations='state', color='number_of_orders',\n",
    "                        color_continuous_scale=\"Greens\",\n",
    "                        range_color=(0, 150),\n",
    "                        scope=\"usa\",\n",
    "                        labels={'number_of_orders':'Number of Orders'},\n",
    "                        )\n",
    "fig.update_layout(title_text = 'Etsy Orders by State', geo_scope='usa', margin={\"r\":20,\"t\":80,\"l\":0,\"b\":30})\n",
    "fig.show()"
   ]
  },
  {
   "cell_type": "markdown",
   "metadata": {},
   "source": [
    "### Repeat order rate by state\n",
    "With the geographic distribution of the orders in mind, we created a map of the percent repeat customers in each state. To ensure the data shown was statistically significant, we filtered out the states with fewer than 20 customers. This prevents cases where a state may only have a few customers, so if one of them reorders the reorder rate is articially high. "
   ]
  },
  {
   "cell_type": "code",
   "execution_count": 17,
   "metadata": {},
   "outputs": [
    {
     "data": {
      "application/vnd.plotly.v1+json": {
       "config": {
        "plotlyServerURL": "https://plot.ly"
       },
       "data": [
        {
         "coloraxis": "coloraxis",
         "geo": "geo",
         "hovertemplate": "state=%{location}<br>Percent Repeat Customers by State=%{z}<extra></extra>",
         "locationmode": "USA-states",
         "locations": [
          "VA",
          "TX",
          "MA",
          "SC",
          "OH",
          "GA",
          "NC",
          "NJ",
          "LA",
          "AL",
          "CA",
          "MO",
          "CT",
          "FL",
          "IN",
          "NY",
          "TN",
          "KY",
          "PA",
          "CO",
          "MI",
          "MD",
          "OK",
          "MS",
          "IL",
          "MN"
         ],
         "name": "",
         "type": "choropleth",
         "z": [
          0.12173913043478261,
          0.1382488479262673,
          0.05,
          0.14457831325301204,
          0.09090909090909091,
          0.10185185185185185,
          0.10714285714285714,
          0.18518518518518517,
          0.029411764705882353,
          0.13253012048192772,
          0.1111111111111111,
          0.075,
          0.13725490196078433,
          0.10752688172043011,
          0.12,
          0.10416666666666667,
          0.11764705882352941,
          0.14285714285714285,
          0.07142857142857142,
          0.10344827586206896,
          0.09090909090909091,
          0.11538461538461539,
          0.08695652173913043,
          0.1,
          0.15,
          0
         ]
        }
       ],
       "layout": {
        "coloraxis": {
         "cmax": 0.2,
         "cmin": 0,
         "colorbar": {
          "title": {
           "text": "Percent Repeat Customers by State"
          }
         },
         "colorscale": [
          [
           0,
           "rgb(247,252,245)"
          ],
          [
           0.125,
           "rgb(229,245,224)"
          ],
          [
           0.25,
           "rgb(199,233,192)"
          ],
          [
           0.375,
           "rgb(161,217,155)"
          ],
          [
           0.5,
           "rgb(116,196,118)"
          ],
          [
           0.625,
           "rgb(65,171,93)"
          ],
          [
           0.75,
           "rgb(35,139,69)"
          ],
          [
           0.875,
           "rgb(0,109,44)"
          ],
          [
           1,
           "rgb(0,68,27)"
          ]
         ]
        },
        "geo": {
         "center": {},
         "domain": {
          "x": [
           0,
           1
          ],
          "y": [
           0,
           1
          ]
         },
         "scope": "usa"
        },
        "legend": {
         "tracegroupgap": 0
        },
        "margin": {
         "b": 30,
         "l": 0,
         "r": 20,
         "t": 80
        },
        "template": {
         "data": {
          "bar": [
           {
            "error_x": {
             "color": "#2a3f5f"
            },
            "error_y": {
             "color": "#2a3f5f"
            },
            "marker": {
             "line": {
              "color": "#E5ECF6",
              "width": 0.5
             },
             "pattern": {
              "fillmode": "overlay",
              "size": 10,
              "solidity": 0.2
             }
            },
            "type": "bar"
           }
          ],
          "barpolar": [
           {
            "marker": {
             "line": {
              "color": "#E5ECF6",
              "width": 0.5
             },
             "pattern": {
              "fillmode": "overlay",
              "size": 10,
              "solidity": 0.2
             }
            },
            "type": "barpolar"
           }
          ],
          "carpet": [
           {
            "aaxis": {
             "endlinecolor": "#2a3f5f",
             "gridcolor": "white",
             "linecolor": "white",
             "minorgridcolor": "white",
             "startlinecolor": "#2a3f5f"
            },
            "baxis": {
             "endlinecolor": "#2a3f5f",
             "gridcolor": "white",
             "linecolor": "white",
             "minorgridcolor": "white",
             "startlinecolor": "#2a3f5f"
            },
            "type": "carpet"
           }
          ],
          "choropleth": [
           {
            "colorbar": {
             "outlinewidth": 0,
             "ticks": ""
            },
            "type": "choropleth"
           }
          ],
          "contour": [
           {
            "colorbar": {
             "outlinewidth": 0,
             "ticks": ""
            },
            "colorscale": [
             [
              0,
              "#0d0887"
             ],
             [
              0.1111111111111111,
              "#46039f"
             ],
             [
              0.2222222222222222,
              "#7201a8"
             ],
             [
              0.3333333333333333,
              "#9c179e"
             ],
             [
              0.4444444444444444,
              "#bd3786"
             ],
             [
              0.5555555555555556,
              "#d8576b"
             ],
             [
              0.6666666666666666,
              "#ed7953"
             ],
             [
              0.7777777777777778,
              "#fb9f3a"
             ],
             [
              0.8888888888888888,
              "#fdca26"
             ],
             [
              1,
              "#f0f921"
             ]
            ],
            "type": "contour"
           }
          ],
          "contourcarpet": [
           {
            "colorbar": {
             "outlinewidth": 0,
             "ticks": ""
            },
            "type": "contourcarpet"
           }
          ],
          "heatmap": [
           {
            "colorbar": {
             "outlinewidth": 0,
             "ticks": ""
            },
            "colorscale": [
             [
              0,
              "#0d0887"
             ],
             [
              0.1111111111111111,
              "#46039f"
             ],
             [
              0.2222222222222222,
              "#7201a8"
             ],
             [
              0.3333333333333333,
              "#9c179e"
             ],
             [
              0.4444444444444444,
              "#bd3786"
             ],
             [
              0.5555555555555556,
              "#d8576b"
             ],
             [
              0.6666666666666666,
              "#ed7953"
             ],
             [
              0.7777777777777778,
              "#fb9f3a"
             ],
             [
              0.8888888888888888,
              "#fdca26"
             ],
             [
              1,
              "#f0f921"
             ]
            ],
            "type": "heatmap"
           }
          ],
          "heatmapgl": [
           {
            "colorbar": {
             "outlinewidth": 0,
             "ticks": ""
            },
            "colorscale": [
             [
              0,
              "#0d0887"
             ],
             [
              0.1111111111111111,
              "#46039f"
             ],
             [
              0.2222222222222222,
              "#7201a8"
             ],
             [
              0.3333333333333333,
              "#9c179e"
             ],
             [
              0.4444444444444444,
              "#bd3786"
             ],
             [
              0.5555555555555556,
              "#d8576b"
             ],
             [
              0.6666666666666666,
              "#ed7953"
             ],
             [
              0.7777777777777778,
              "#fb9f3a"
             ],
             [
              0.8888888888888888,
              "#fdca26"
             ],
             [
              1,
              "#f0f921"
             ]
            ],
            "type": "heatmapgl"
           }
          ],
          "histogram": [
           {
            "marker": {
             "pattern": {
              "fillmode": "overlay",
              "size": 10,
              "solidity": 0.2
             }
            },
            "type": "histogram"
           }
          ],
          "histogram2d": [
           {
            "colorbar": {
             "outlinewidth": 0,
             "ticks": ""
            },
            "colorscale": [
             [
              0,
              "#0d0887"
             ],
             [
              0.1111111111111111,
              "#46039f"
             ],
             [
              0.2222222222222222,
              "#7201a8"
             ],
             [
              0.3333333333333333,
              "#9c179e"
             ],
             [
              0.4444444444444444,
              "#bd3786"
             ],
             [
              0.5555555555555556,
              "#d8576b"
             ],
             [
              0.6666666666666666,
              "#ed7953"
             ],
             [
              0.7777777777777778,
              "#fb9f3a"
             ],
             [
              0.8888888888888888,
              "#fdca26"
             ],
             [
              1,
              "#f0f921"
             ]
            ],
            "type": "histogram2d"
           }
          ],
          "histogram2dcontour": [
           {
            "colorbar": {
             "outlinewidth": 0,
             "ticks": ""
            },
            "colorscale": [
             [
              0,
              "#0d0887"
             ],
             [
              0.1111111111111111,
              "#46039f"
             ],
             [
              0.2222222222222222,
              "#7201a8"
             ],
             [
              0.3333333333333333,
              "#9c179e"
             ],
             [
              0.4444444444444444,
              "#bd3786"
             ],
             [
              0.5555555555555556,
              "#d8576b"
             ],
             [
              0.6666666666666666,
              "#ed7953"
             ],
             [
              0.7777777777777778,
              "#fb9f3a"
             ],
             [
              0.8888888888888888,
              "#fdca26"
             ],
             [
              1,
              "#f0f921"
             ]
            ],
            "type": "histogram2dcontour"
           }
          ],
          "mesh3d": [
           {
            "colorbar": {
             "outlinewidth": 0,
             "ticks": ""
            },
            "type": "mesh3d"
           }
          ],
          "parcoords": [
           {
            "line": {
             "colorbar": {
              "outlinewidth": 0,
              "ticks": ""
             }
            },
            "type": "parcoords"
           }
          ],
          "pie": [
           {
            "automargin": true,
            "type": "pie"
           }
          ],
          "scatter": [
           {
            "fillpattern": {
             "fillmode": "overlay",
             "size": 10,
             "solidity": 0.2
            },
            "type": "scatter"
           }
          ],
          "scatter3d": [
           {
            "line": {
             "colorbar": {
              "outlinewidth": 0,
              "ticks": ""
             }
            },
            "marker": {
             "colorbar": {
              "outlinewidth": 0,
              "ticks": ""
             }
            },
            "type": "scatter3d"
           }
          ],
          "scattercarpet": [
           {
            "marker": {
             "colorbar": {
              "outlinewidth": 0,
              "ticks": ""
             }
            },
            "type": "scattercarpet"
           }
          ],
          "scattergeo": [
           {
            "marker": {
             "colorbar": {
              "outlinewidth": 0,
              "ticks": ""
             }
            },
            "type": "scattergeo"
           }
          ],
          "scattergl": [
           {
            "marker": {
             "colorbar": {
              "outlinewidth": 0,
              "ticks": ""
             }
            },
            "type": "scattergl"
           }
          ],
          "scattermapbox": [
           {
            "marker": {
             "colorbar": {
              "outlinewidth": 0,
              "ticks": ""
             }
            },
            "type": "scattermapbox"
           }
          ],
          "scatterpolar": [
           {
            "marker": {
             "colorbar": {
              "outlinewidth": 0,
              "ticks": ""
             }
            },
            "type": "scatterpolar"
           }
          ],
          "scatterpolargl": [
           {
            "marker": {
             "colorbar": {
              "outlinewidth": 0,
              "ticks": ""
             }
            },
            "type": "scatterpolargl"
           }
          ],
          "scatterternary": [
           {
            "marker": {
             "colorbar": {
              "outlinewidth": 0,
              "ticks": ""
             }
            },
            "type": "scatterternary"
           }
          ],
          "surface": [
           {
            "colorbar": {
             "outlinewidth": 0,
             "ticks": ""
            },
            "colorscale": [
             [
              0,
              "#0d0887"
             ],
             [
              0.1111111111111111,
              "#46039f"
             ],
             [
              0.2222222222222222,
              "#7201a8"
             ],
             [
              0.3333333333333333,
              "#9c179e"
             ],
             [
              0.4444444444444444,
              "#bd3786"
             ],
             [
              0.5555555555555556,
              "#d8576b"
             ],
             [
              0.6666666666666666,
              "#ed7953"
             ],
             [
              0.7777777777777778,
              "#fb9f3a"
             ],
             [
              0.8888888888888888,
              "#fdca26"
             ],
             [
              1,
              "#f0f921"
             ]
            ],
            "type": "surface"
           }
          ],
          "table": [
           {
            "cells": {
             "fill": {
              "color": "#EBF0F8"
             },
             "line": {
              "color": "white"
             }
            },
            "header": {
             "fill": {
              "color": "#C8D4E3"
             },
             "line": {
              "color": "white"
             }
            },
            "type": "table"
           }
          ]
         },
         "layout": {
          "annotationdefaults": {
           "arrowcolor": "#2a3f5f",
           "arrowhead": 0,
           "arrowwidth": 1
          },
          "autotypenumbers": "strict",
          "coloraxis": {
           "colorbar": {
            "outlinewidth": 0,
            "ticks": ""
           }
          },
          "colorscale": {
           "diverging": [
            [
             0,
             "#8e0152"
            ],
            [
             0.1,
             "#c51b7d"
            ],
            [
             0.2,
             "#de77ae"
            ],
            [
             0.3,
             "#f1b6da"
            ],
            [
             0.4,
             "#fde0ef"
            ],
            [
             0.5,
             "#f7f7f7"
            ],
            [
             0.6,
             "#e6f5d0"
            ],
            [
             0.7,
             "#b8e186"
            ],
            [
             0.8,
             "#7fbc41"
            ],
            [
             0.9,
             "#4d9221"
            ],
            [
             1,
             "#276419"
            ]
           ],
           "sequential": [
            [
             0,
             "#0d0887"
            ],
            [
             0.1111111111111111,
             "#46039f"
            ],
            [
             0.2222222222222222,
             "#7201a8"
            ],
            [
             0.3333333333333333,
             "#9c179e"
            ],
            [
             0.4444444444444444,
             "#bd3786"
            ],
            [
             0.5555555555555556,
             "#d8576b"
            ],
            [
             0.6666666666666666,
             "#ed7953"
            ],
            [
             0.7777777777777778,
             "#fb9f3a"
            ],
            [
             0.8888888888888888,
             "#fdca26"
            ],
            [
             1,
             "#f0f921"
            ]
           ],
           "sequentialminus": [
            [
             0,
             "#0d0887"
            ],
            [
             0.1111111111111111,
             "#46039f"
            ],
            [
             0.2222222222222222,
             "#7201a8"
            ],
            [
             0.3333333333333333,
             "#9c179e"
            ],
            [
             0.4444444444444444,
             "#bd3786"
            ],
            [
             0.5555555555555556,
             "#d8576b"
            ],
            [
             0.6666666666666666,
             "#ed7953"
            ],
            [
             0.7777777777777778,
             "#fb9f3a"
            ],
            [
             0.8888888888888888,
             "#fdca26"
            ],
            [
             1,
             "#f0f921"
            ]
           ]
          },
          "colorway": [
           "#636efa",
           "#EF553B",
           "#00cc96",
           "#ab63fa",
           "#FFA15A",
           "#19d3f3",
           "#FF6692",
           "#B6E880",
           "#FF97FF",
           "#FECB52"
          ],
          "font": {
           "color": "#2a3f5f"
          },
          "geo": {
           "bgcolor": "white",
           "lakecolor": "white",
           "landcolor": "#E5ECF6",
           "showlakes": true,
           "showland": true,
           "subunitcolor": "white"
          },
          "hoverlabel": {
           "align": "left"
          },
          "hovermode": "closest",
          "mapbox": {
           "style": "light"
          },
          "paper_bgcolor": "white",
          "plot_bgcolor": "#E5ECF6",
          "polar": {
           "angularaxis": {
            "gridcolor": "white",
            "linecolor": "white",
            "ticks": ""
           },
           "bgcolor": "#E5ECF6",
           "radialaxis": {
            "gridcolor": "white",
            "linecolor": "white",
            "ticks": ""
           }
          },
          "scene": {
           "xaxis": {
            "backgroundcolor": "#E5ECF6",
            "gridcolor": "white",
            "gridwidth": 2,
            "linecolor": "white",
            "showbackground": true,
            "ticks": "",
            "zerolinecolor": "white"
           },
           "yaxis": {
            "backgroundcolor": "#E5ECF6",
            "gridcolor": "white",
            "gridwidth": 2,
            "linecolor": "white",
            "showbackground": true,
            "ticks": "",
            "zerolinecolor": "white"
           },
           "zaxis": {
            "backgroundcolor": "#E5ECF6",
            "gridcolor": "white",
            "gridwidth": 2,
            "linecolor": "white",
            "showbackground": true,
            "ticks": "",
            "zerolinecolor": "white"
           }
          },
          "shapedefaults": {
           "line": {
            "color": "#2a3f5f"
           }
          },
          "ternary": {
           "aaxis": {
            "gridcolor": "white",
            "linecolor": "white",
            "ticks": ""
           },
           "baxis": {
            "gridcolor": "white",
            "linecolor": "white",
            "ticks": ""
           },
           "bgcolor": "#E5ECF6",
           "caxis": {
            "gridcolor": "white",
            "linecolor": "white",
            "ticks": ""
           }
          },
          "title": {
           "x": 0.05
          },
          "xaxis": {
           "automargin": true,
           "gridcolor": "white",
           "linecolor": "white",
           "ticks": "",
           "title": {
            "standoff": 15
           },
           "zerolinecolor": "white",
           "zerolinewidth": 2
          },
          "yaxis": {
           "automargin": true,
           "gridcolor": "white",
           "linecolor": "white",
           "ticks": "",
           "title": {
            "standoff": 15
           },
           "zerolinecolor": "white",
           "zerolinewidth": 2
          }
         }
        },
        "title": {
         "text": "Percent Repeat Customers by State"
        }
       }
      }
     },
     "metadata": {},
     "output_type": "display_data"
    }
   ],
   "source": [
    "fig = px.choropleth(state_reorder_df, locationmode = 'USA-states', locations='state', color='reorder_rate',\n",
    "                        color_continuous_scale=\"Greens\",\n",
    "                        range_color=(0, .2),\n",
    "                        scope=\"usa\",\n",
    "                        labels={'reorder_rate':'Percent Repeat Customers by State'},\n",
    "                        )\n",
    "fig.update_layout(title_text = 'Percent Repeat Customers by State', geo_scope='usa', margin={\"r\":20,\"t\":80,\"l\":0,\"b\":30})\n",
    "fig.show()"
   ]
  },
  {
   "cell_type": "markdown",
   "metadata": {},
   "source": [
    "### Reviews\n",
    "We were also curious if people who leave a review are more likely to reorder than people who don't. To find ths out we:"
   ]
  },
  {
   "cell_type": "code",
   "execution_count": 18,
   "metadata": {},
   "outputs": [
    {
     "data": {
      "image/png": "[encoded data removed]",
      "text/plain": [
       "<Figure size 640x480 with 1 Axes>"
      ]
     },
     "metadata": {},
     "output_type": "display_data"
    }
   ],
   "source": [
    "fig, ax = plt.subplots()\n",
    "\n",
    "labels = [\"Left Review\", \"Didn't Leave Review\", \"Overall Average\"]\n",
    "percents = [repeat_percent_yes_review, repeat_percent_no_review, repeat_percent_overall]\n",
    "\n",
    "ax.barh(range(len(labels)), percents, align='center')\n",
    "ax.set_yticks(range(len(labels)), labels=labels)\n",
    "ax.invert_yaxis()\n",
    "ax.set_xlabel('Repeat Customer Percent')\n",
    "ax.set_title('Reorder Rate Based on Leaving Review')\n",
    "\n",
    "plt.show()"
   ]
  },
  {
   "cell_type": "markdown",
   "metadata": {},
   "source": [
    "### How we're going to act on this"
   ]
  },
  {
   "cell_type": "markdown",
   "metadata": {},
   "source": [
    "## Concluding remarks\n",
    "\n",
    "What are the important insights that the reader should get from this project?\n",
    "\n",
    "What are the ethical considerations surrounding the data sourcing?\n",
    "What are the contextual or ethical implications of your topic or work?\n",
    "\n",
    "For the most part, this project creates no ethical concerns. However, it is important to notice that some sensitive data is used for the geographical analysis, such as zipcodes. While zipcodes per se are not someting that can identify a specific person, they can be used along with other data to do so. Furthermore, while we chose not to use the full address of people, it is also important to notice that the API does provide this data if requested. Therefore, there is a potential for misuse of this sensitive data.\n",
    "\n",
    "What lessons did you learn as you did the project?\n",
    "\n",
    "What were the most difficult, challenging, or frustrating parts of the project?\n",
    "\n",
    "One of the most frustrating parts of the project was creating the interactive map graphs. This is because they were created using a library that neither of us have used before, and therefore knew nothing about. Furthermore, another challenging part of this project was obtaining the API data. API calls were new for both of us, and the specific syntax and error codes were difficult to understand at first. This is why we initially thought of using a separate library to write the API calls, but abandoned this idea to maintain the overall structure of the project simpler. \n",
    "\n",
    "### Assumptions and Future Improvements\n",
    "In what ways would you extend or change your project if you had more time?\n",
    "\n",
    "If we had more time, we believe it would be useful to dive deeper into the psychology of the customer, understanding exactly what elements drive a customer to reorder. It could also be very interesting to assess the success of different customer retention techniques, such as newsletters, promo codes, sales, bundles, or else. "
   ]
  }
 ],
 "metadata": {
  "kernelspec": {
   "display_name": "base",
   "language": "python",
   "name": "python3"
  },
  "language_info": {
   "codemirror_mode": {
    "name": "ipython",
    "version": 3
   },
   "file_extension": ".py",
   "mimetype": "text/x-python",
   "name": "python",
   "nbconvert_exporter": "python",
   "pygments_lexer": "ipython3",
   "version": "3.11.5"
  }
 },
 "nbformat": 4,
 "nbformat_minor": 2
}
